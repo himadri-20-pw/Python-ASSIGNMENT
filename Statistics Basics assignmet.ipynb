{
 "cells": [
  {
   "cell_type": "markdown",
   "id": "b5de943d-7af4-4294-9307-a6bea0497be1",
   "metadata": {},
   "source": [
    "# Statistics Basics"
   ]
  },
  {
   "cell_type": "markdown",
   "id": "1259a214-4025-42b2-9e45-30693839988c",
   "metadata": {
    "jp-MarkdownHeadingCollapsed": true
   },
   "source": [
    "### Q1) What is statistics, and why is it important?"
   ]
  },
  {
   "cell_type": "markdown",
   "id": "23b81af4-8094-4011-a8f3-67c3789b4cda",
   "metadata": {},
   "source": [
    "#### ANS- Statics is a mathematical science including methods of collecting,organizing and analysing data in such a way that meaningful conclusions can be drawn from them.The importance of statistics are- \n",
    "#### 1. Informed Decision-Making\n",
    "Governments, businesses, and individuals use statistics to make evidence-based decisions.\n",
    "Example: A company uses customer data to decide which products to keep or drop.\n",
    "\n",
    "#### 2. Understanding Data\n",
    "Helps summarize large volumes of information into clear, digestible insights.\n",
    "Example: A school uses average test scores to evaluate student performance.\n",
    "\n",
    "#### 3. Identifying Trends and Patterns\n",
    "Statistics reveal changes over time or differences between groups.\n",
    "Example: Public health officials track disease outbreaks and trends using statistical data.\n",
    "\n",
    "#### 4. Scientific Research and Testing\n",
    "Essential in experiments to test hypotheses and validate results.\n",
    "Example: Clinical trials use statistical methods to determine if a new drug is effective.\n",
    "\n",
    "#### 5. Risk Assessment and Forecasting\n",
    "Used to predict future events and assess risks.\n",
    "Example: Insurance companies use statistics to set premiums based on accident probabilities.\n",
    "\n",
    "#### 6. Communication of Findings\n",
    "Statistics provide visual and numerical ways (like graphs and averages) to communicate complex information clearly.\n",
    "Example: Election poll results are summarized using percentages and margins of error.\n",
    "\n",
    "#### 7. Policy Making\n",
    "Governments rely on census data, economic indicators, and other statistics to create effective policies.\n",
    "Example: Unemployment rates influence decisions on labor laws and social programs."
   ]
  },
  {
   "cell_type": "markdown",
   "id": "a47a4bf0-aaac-43bd-b0fe-9485a52e378f",
   "metadata": {
    "jp-MarkdownHeadingCollapsed": true
   },
   "source": [
    "### Q2) What are the two main types of statistics?"
   ]
  },
  {
   "cell_type": "markdown",
   "id": "316411a7-ecfb-4a8c-b4fa-1af4778d5465",
   "metadata": {},
   "source": [
    "#### ANS- The two main types of statistics- \n",
    "#### Descriptive Statistics- It consists of organizing and summarising the complete data\\population.Descriptive statistics refers to the process of summarizing numerical and categorical data in a concise and informative manner. It involves using various measures, such as measures of center, variability, shape, and location, to describe key features of the data.For example, a descriptive statistic could include the proportion of males and females within a sample or the percentages of different age groups within a population.\n",
    "\n",
    "#### Inferential Statistics-It consists of using sample data that has been measured to form conclusion about a population.Inferential statistics is a branch of statistics that makes the use of various analytical tools to draw inferences about the population data from sample data. Examples:Predicting the results of an election based on polling data,Estimating the average height of students in a school based on a sample of students."
   ]
  },
  {
   "cell_type": "markdown",
   "id": "393d92d9-6d23-4772-98da-cd517a5ea204",
   "metadata": {
    "jp-MarkdownHeadingCollapsed": true
   },
   "source": [
    "### Q3) What are descriptive statistics?"
   ]
  },
  {
   "cell_type": "markdown",
   "id": "807b7318-ca53-4360-890f-0546b19d59a0",
   "metadata": {},
   "source": [
    "#### ANS- Descriptive statistics involves summarizing and describing the main features of a dataset, often using numerical summaries or visual representations like graphs. It helps to understand the characteristics of the data without making generalizations about a larger population.\n",
    "#### example- average height\\weight of students in this class\\state\\religion\\country."
   ]
  },
  {
   "cell_type": "markdown",
   "id": "75c81311-7134-4493-a2f6-234c357fde5a",
   "metadata": {
    "jp-MarkdownHeadingCollapsed": true
   },
   "source": [
    "### Q4) What is inferential statistics?"
   ]
  },
  {
   "cell_type": "markdown",
   "id": "cf6611e6-9502-4499-92a7-2371b7c3519b",
   "metadata": {},
   "source": [
    "#### ANS- Inferential statistics is a branch of statistics that uses data from a sample to draw conclusions or make predictions about a larger population or group. It involves making inferences about population parameters based on sample statistics and using probability theory to assess the likelihood of these inferences.\n",
    "#### example-to calculate the average age\\weight of population of india."
   ]
  },
  {
   "cell_type": "markdown",
   "id": "e82549bf-54fc-4caf-9841-7719387dd343",
   "metadata": {
    "jp-MarkdownHeadingCollapsed": true
   },
   "source": [
    "### Q5) What is sampling in statistics?"
   ]
  },
  {
   "cell_type": "markdown",
   "id": "537cd1b3-2683-48a6-9129-e02fac44dda3",
   "metadata": {},
   "source": [
    "#### ANS- Sampling in statistics is a statistical technique for efficiently analyzing large datasets by selecting a representative subset. Rather than analyzing an entire dataset, sampling analyzes a small portion so researchers can make conclusions about a larger population. This allows for informed decision-making without exhaustive data collection.\n",
    "#### For example, a company looking to evaluate customer satisfaction would survey a carefully selected group of customers rather than all of its customers."
   ]
  },
  {
   "cell_type": "markdown",
   "id": "936f4223-1060-42a1-a2d4-33f05dd92846",
   "metadata": {
    "jp-MarkdownHeadingCollapsed": true
   },
   "source": [
    "### Q6) What are the different types of sampling methods?"
   ]
  },
  {
   "cell_type": "markdown",
   "id": "e01d70fb-15c1-4170-9533-9c8736a03ebe",
   "metadata": {},
   "source": [
    "#### ANS- The different types of sampling methods-"
   ]
  },
  {
   "cell_type": "markdown",
   "id": "87096e36-9592-4d12-b208-149d8871065d",
   "metadata": {},
   "source": [
    "#### -Simple Random Sampling\n",
    "#### Simple Random Sampling- Every member of the population(N) has an equal chance of being selected in the sample.It is often used in surveys and market research, ensuring that every constituent of a population has an equal chance of being selected. For example, a bank might randomly choose 1,000 customers to assess spending habits. Randomly choosing these customers helps reduce bias and is great for getting general results."
   ]
  },
  {
   "cell_type": "markdown",
   "id": "4fb26a4b-b7c7-43d1-b5f7-dcc560e5fb7d",
   "metadata": {},
   "source": [
    "#### -Stratified Sampling\n",
    "#### Stratified Sampling- The population is divided into subgroups (strata) based on a specific characteristic, and random samples are taken from each stratum. Example-A university wants to survey students by academic year. They divide the population into freshmen, sophomores, juniors, and seniors, then randomly select 25 students from each group."
   ]
  },
  {
   "cell_type": "markdown",
   "id": "a955b72c-7f63-4756-88bc-34e7c16ef15e",
   "metadata": {},
   "source": [
    "#### -Cluster Sampling\n",
    "#### Cluster Sampling- The population is divided into clusters, usually based on geography or another natural grouping, and entire clusters are randomly selected.Example-A health organization wants to study eating habits in a city. They divide the city into 10 neighborhoods (clusters) and randomly select 3 neighborhoods. All households in those 3 neighborhoods are surveyed."
   ]
  },
  {
   "cell_type": "markdown",
   "id": "4284b79b-b7fd-4395-ad16-a1ba35380235",
   "metadata": {},
   "source": [
    "#### -Systematic Sampling\n",
    "#### Systematic Sampling- Every nth item is chosen from a population at regular intervals. For example, if a company wanted to analyze 2,000 invoices from a total of 20,000, it would choose every 10th invoice for review after a random starting point."
   ]
  },
  {
   "cell_type": "markdown",
   "id": "b73d3ab9-583d-49e2-8506-541bd78f0cce",
   "metadata": {
    "jp-MarkdownHeadingCollapsed": true
   },
   "source": [
    "### Q7) What is the difference between random and non-random sampling?"
   ]
  },
  {
   "cell_type": "markdown",
   "id": "04ce8a1a-0a41-43ee-bc8c-024fd3ef4ad4",
   "metadata": {},
   "source": [
    "#### ANS- Random sampling, also known as probability sampling, ensures every member of the population has a chance of being selected for the sample, while non-random sampling which is also known as non-probability sampling does not ensures. \n",
    "#### This means that in random sampling, selection is based on chance which ensuring a representative sample. Minimizes selection bias. Results can be generalized to the larger population.Examples: Simple Random Sampling,Cluster Sampling.\n",
    "#### In contrast, non-random sampling relies on factors like convenience, judgment, or specific criteria, potentially introducing bias.Higher risk of bias.Not generalizable to the whole population.Examples: Convenience Sampling,Purposive (Judgmental) Sampling"
   ]
  },
  {
   "cell_type": "markdown",
   "id": "4f0b7c38-2f33-4663-8e14-091de863cf08",
   "metadata": {
    "jp-MarkdownHeadingCollapsed": true
   },
   "source": [
    "### Q8) Define and give examples of qualitative and quantitative data."
   ]
  },
  {
   "cell_type": "markdown",
   "id": "094d4c45-7f9c-43b1-a3f2-a3cc61cde536",
   "metadata": {},
   "source": [
    "#### ANS- Qualitative data describes qualities or characteristics that can't be measured numerically.Thses are Non-numerical data that describes qualities, characteristics, or categories.It includes descriptions like colors, feelings etc.\n",
    "#### Examples:\n",
    "##### Colors of flowers. \n",
    "##### Feelings expressed by people after an event. \n",
    "##### Types of fruit. \n",
    "##### Transcripts from interviews. "
   ]
  },
  {
   "cell_type": "markdown",
   "id": "da37db57-8107-4313-bf49-d6f55185d8ff",
   "metadata": {},
   "source": [
    "#### Quantitative Data: Numerical data that can be measured and counted. It includes data like height, weight, or temperatures.\n",
    "#### Examples:\n",
    "##### Height in centimeters. \n",
    "##### Weight in kilograms. \n",
    "##### Temperature in degrees Celsius."
   ]
  },
  {
   "cell_type": "markdown",
   "id": "dd06ebe5-c25d-4721-8f6e-be62556f5b13",
   "metadata": {
    "jp-MarkdownHeadingCollapsed": true
   },
   "source": [
    "### Q9) What are the different types of data in statistics?"
   ]
  },
  {
   "cell_type": "markdown",
   "id": "01f2d79f-7aca-43d2-a142-bcd772419113",
   "metadata": {},
   "source": [
    "#### ANS- The different types of data in statistics are-\n",
    "#### Qualitative data are Non-numerical data that describes qualities, characteristics, or categories.It includes descriptions like colors, feelings etc.Under Qualitative data is further divided into Nominal and Ordinal.\n",
    "##### Nominal data- No order in categorical data naturally.Example-Blood Group,Gender etc.\n",
    "##### Ordinal data- order in data.Example-Rank,Grades,Salary etc.\n",
    "#### Quantitative Data: Numerical data that can be measured and counted. It includes data like height, weight, or temperatures.Under Quatitative data is further divided into Discrete and Continuous.\n",
    "##### Discrete data- whole number. example- no. of children,no.of mobile phones etc.\n",
    "##### Continuous dat- any value in a range.example-height,weight,temperature etc."
   ]
  },
  {
   "cell_type": "markdown",
   "id": "4d051ee8-c604-402c-ab08-4a0a9abd9509",
   "metadata": {
    "jp-MarkdownHeadingCollapsed": true
   },
   "source": [
    "### Q10) Explain nominal, ordinal, interval, and ratio levels of measurement."
   ]
  },
  {
   "cell_type": "markdown",
   "id": "c07327b9-4666-4cff-89a9-179ac309d205",
   "metadata": {},
   "source": [
    "#### ANS-\n",
    "#### 1. Nominal Scale data- Data is categorized without any order or ranking.\n",
    "##### Characteristics:\n",
    "Qualitatives or categorical data(No numerical meaning).No order in the data.\n",
    "##### Examples:Gender (male, female, non-binary),Eye color (blue, green, brown),Nationality (American, French, Indian)\n",
    "\n",
    "#### 2. Ordinal Scale data- Data is categorized with a meaningful order, but the intervals between values are not consistent or known.\n",
    "##### Characteristics: Order & rank has a meaning/matter.Differences between data points are not meaningful.\n",
    "##### Examples:Education level (high school, bachelor’s, master’s, PhD),Satisfaction ratings (satisfied, neutral, dissatisfied),Race position (1st, 2nd, 3rd)\n",
    "\n",
    "#### 3. Interval Scale- Ordered data with equal intervals between values, but no true zero.\n",
    "##### Characteristics: Order & rank has a meaning.Differences are can be measured(exception: excluding ratio).\n",
    "It doesn't have complusorily zero starting value.\n",
    "##### Examples:Temperature in Celsius or Fahrenheit (20°C is not \"twice as hot\" as 10°C),IQ scores,Calendar dates (2000 AD vs. 1000 AD – you can measure intervals, but there’s no \"zero year\")\n",
    "\n",
    "#### 4. Ratio Scale data- Like interval, but with a true zero, allowing for meaningful ratios.\n",
    "##### Characteristics: Order & rank has a meaning.Differences are can be measured.It does have a zero starting point compulsorily.\n",
    "##### Examples:\n",
    "##### Height, weight, age, income\n",
    "##### Time duration (0 seconds means \"no time\")\n",
    "##### Distance"
   ]
  },
  {
   "cell_type": "markdown",
   "id": "f4b4bff9-d6f2-4186-872a-25ab21b26a7e",
   "metadata": {
    "jp-MarkdownHeadingCollapsed": true
   },
   "source": [
    "### Q11) What is the measure of central tendency?"
   ]
  },
  {
   "cell_type": "markdown",
   "id": "ba577906-bb1b-40ba-bdc7-e41cc2582b30",
   "metadata": {},
   "source": [
    "#### ANS- The measure of central tendency (also referred to as measures of centre or central location) is a summary measure that attempts to describe a whole set of data with a single value that represents the middle or centre of its distribution. There are three main measures of central tendency: mean, median and mode."
   ]
  },
  {
   "cell_type": "markdown",
   "id": "46bac57b-339c-4af0-8386-549e26e14a11",
   "metadata": {
    "jp-MarkdownHeadingCollapsed": true
   },
   "source": [
    "### Q12) Define mean, median, and mode."
   ]
  },
  {
   "cell_type": "markdown",
   "id": "ffe2e092-a9b6-4392-a0b0-3b7961148642",
   "metadata": {},
   "source": [
    "#### ANS- Mean(Average:Arithmatic mid value of data) - The average, calculated by summing all values in the dataset and dividing by the total number of values. \n",
    "#### Median(Physical mid point of data) - The middle value when the dataset is arranged in ascending or descending order.\n",
    "#### Mode(repeated hightest no. of times) - The value that appears most frequently in the dataset."
   ]
  },
  {
   "cell_type": "code",
   "execution_count": null,
   "id": "d3336656-f709-4098-9927-e99ae7b498fc",
   "metadata": {},
   "outputs": [],
   "source": [
    "Example: Test Scores of Students\n",
    "60, 70, 70, 80, 90\n",
    "1.Mean\n",
    "Mean=(60+70+70+80+90)/5=370/5=74\n",
    "Mean=74\n",
    "2.Median \n",
    "Arrange the numbers in order (already done)\n",
    "The middle value (3rd number) is 70.\n",
    "Median = 70\n",
    "3. Mode\n",
    "The number that appears most often is 70 (appears twice).\n",
    "Mode = 70"
   ]
  },
  {
   "cell_type": "markdown",
   "id": "f7d93ded-4292-4dac-9bfa-1869355c95b0",
   "metadata": {
    "jp-MarkdownHeadingCollapsed": true
   },
   "source": [
    "### Q13) What is the significance of the measure of central tendency?"
   ]
  },
  {
   "cell_type": "markdown",
   "id": "2fc7d6f6-1865-409a-af63-eb7dee658442",
   "metadata": {},
   "source": [
    "#### ANS- The significance of the measure of central tendency are:-\n",
    "#### Data Simplification:\n",
    "They condense complex datasets into a single, representative value, making them easier to grasp and understand. \n",
    "#### Comparison:\n",
    "Central tendency measures allow for quick and easy comparisons between different datasets, highlighting their similarities and differences. \n",
    "#### Decision-Making:\n",
    "Knowing the average or typical value of a dataset can be valuable for making informed decisions in various fields, such as business, economics, and social sciences. \n",
    "#### Identifying Outliers:\n",
    "Central tendency measures can help identify outliers or extreme values that may be skewing the data, allowing for a more accurate representation of the dataset. \n",
    "#### Understanding Patterns:\n",
    "By analyzing the central tendency of a datase,researchers can gain insights into the underlying patterns and trends within the data. \n",
    "#### Formulation of Policies:\n",
    "Many governments rely on measures of central tendency to form policies based on the characteristics of the data."
   ]
  },
  {
   "cell_type": "markdown",
   "id": "fdb224bc-2d3f-4a6e-8e4c-140b878af3f3",
   "metadata": {
    "jp-MarkdownHeadingCollapsed": true
   },
   "source": [
    "### Q14) What is variance, and how is it calculated?"
   ]
  },
  {
   "cell_type": "markdown",
   "id": "25daca99-dd25-4e49-8bc1-c0dc06e905b0",
   "metadata": {},
   "source": [
    "#### ANS- Variance is a statistical measure that quantifies the spread or dispersion of a set of data points.The average of the squared differences from the mean.It essentially indicates how much the data values deviate from the mean (average) of the data set.The higher the variance, the more dispersed the data, and vice versa. "
   ]
  },
  {
   "cell_type": "code",
   "execution_count": null,
   "id": "1604df50-b46f-4353-8666-7163ccd74e16",
   "metadata": {},
   "outputs": [],
   "source": [
    "How to calculate variance:\n",
    "1.Calculate the mean (average) of the data set. \n",
    "2.For each data point, subtract the mean and square the result. \n",
    "3.Sum up all the squared differences. \n",
    "4.Divide the sum by the number of data points (for population variance) or (number of data points - 1) for sample variance. \n",
    "5.The result is the variance. \n",
    "Formula:\n",
    "Population Variance (σ²):\n",
    "σ² = Σ(xi - μ)² / N \n",
    "where:\n",
    "xi is each data point in the population \n",
    "μ is the population mean \n",
    "N is the number of data points in the population. \n",
    "\n",
    "Sample Variance (s²):\n",
    "s² = Σ(xi - x̄)² / (n - 1) \n",
    "where:\n",
    "xi is each data point in the sample\n",
    "x̄ is the sample mean\n",
    "n is the number of data points in the sample."
   ]
  },
  {
   "cell_type": "markdown",
   "id": "fd90ac33-8183-4b85-bdf7-80299fb9450f",
   "metadata": {
    "jp-MarkdownHeadingCollapsed": true
   },
   "source": [
    "### Q15) What is standard deviation, and why is it important?"
   ]
  },
  {
   "cell_type": "markdown",
   "id": "7ece3c36-f2c8-4658-bac8-7db91a6976c1",
   "metadata": {},
   "source": [
    "#### ANS- Standard deviation is a statistical measure that shows how much individual data points in a dataset deviate from the mean (average). It essentially quantifies the amount of variability or dispersion within a dataset. A low standard deviation indicates that data points are clustered tightly around the mean, while a high standard deviation means the data is more spread out.\n",
    "#### It is important as:-\n",
    "#### Understanding Data Variability:\n",
    "Standard deviation helps you understand how much your data varies. A large standard deviation suggests more variation, while a small one indicates data is more consistent. \n",
    "#### Comparing Datasets:\n",
    "You can use standard deviation to compare the variability of different datasets. For example, if two groups of students have the same average test score, standard deviation can reveal if one group's scores are more consistently high or low compared to the other. \n",
    "#### Predicting Outcomes:\n",
    "In fields like weather forecasting or sports, standard deviation can help predict the range of possible outcomes based on past data. \n",
    "#### Data Interpretation:\n",
    "Standard deviation provides context to the mean. For example, knowing that the average height is 5'7\" with a standard deviation of 2 inches gives a more complete picture than just the average height alone. \n",
    "#### Error Analysis:\n",
    "Standard deviation is used to calculate standard error, which is a measure of how well a sample represents the population, helping to assess the reliability of statistical inferences."
   ]
  },
  {
   "cell_type": "markdown",
   "id": "f6b7c247-ea5b-42e5-bb04-cbe78e1daa2a",
   "metadata": {
    "jp-MarkdownHeadingCollapsed": true
   },
   "source": [
    "### Q16) Define and explain the term range in statistics."
   ]
  },
  {
   "cell_type": "markdown",
   "id": "7c7d855a-35d6-4c19-83cd-dbbe55dba477",
   "metadata": {},
   "source": [
    "#### ANS- In statistics, the range is a measure of variability that represents the spread or difference between the largest and smallest values in a dataset. It's a simple calculation that gives you an idea of how much the data points vary from each other. Essentially, it's the difference between the maximum and minimum values.\n",
    "#### Calculating the range:\n",
    "To find the range, you subtract the smallest value in the dataset from the largest value. \n",
    "#### Example:\n",
    "If your dataset is {2, 5, 8, 10, 3}, the largest value is 10 and the smallest is 2. The range is 10 - 2 = 8."
   ]
  },
  {
   "cell_type": "markdown",
   "id": "52ffd0b4-88a4-4ed6-aaae-a15aa8ae5fd1",
   "metadata": {
    "jp-MarkdownHeadingCollapsed": true
   },
   "source": [
    "### Q17) What is the difference between variance and standard deviation?"
   ]
  },
  {
   "cell_type": "markdown",
   "id": "3f4ceb0c-8fd9-4123-8f69-5a3a5819e2af",
   "metadata": {},
   "source": [
    "#### ANS- The difference between variance and standard deviation are:- \n",
    "#### Variance is the average of the squared differences from the mean, while standard deviation is the square root of the variance.\n",
    "#### Standard deviation is expressed in the same units as the original data, making it easier to interpret, while variance is in squared units.\n",
    "#### Variance measures the spread of data while standard deviation measures the typical distance from the mean."
   ]
  },
  {
   "cell_type": "markdown",
   "id": "0f9e3afa-0791-4bc8-9326-3c592e20b285",
   "metadata": {
    "jp-MarkdownHeadingCollapsed": true
   },
   "source": [
    "### Q18) What is skewness in a dataset?"
   ]
  },
  {
   "cell_type": "markdown",
   "id": "ace259de-ad55-49e8-a8d7-3f62d2880cdf",
   "metadata": {},
   "source": [
    "#### ANS- Skewness in a dataset is a measure of the asymmetry of the distribution of values around the mean. It tells you whether the data is symmetrically distributed or if it leans more heavily toward one side.\n",
    "\n",
    "#### Types of Skewness:\n",
    "\n",
    "#### Symmetrical Distribution (Skewness ≈ 0):\n",
    "##### The left and right sides of the distribution are mirror images.\n",
    "#### Example: Normal distribution.\n",
    "\n",
    "#### Positive Skew (Right-Skewed, Skewness > 0):\n",
    "##### The right tail (higher values) is longer or fatter.\n",
    "##### The bulk of the data is concentrated on the left.\n",
    "##### Mean > Median > Mode.\n",
    "\n",
    "#### Negative Skew (Left-Skewed, Skewness < 0):\n",
    "##### The left tail (lower values) is longer or fatter.\n",
    "##### The bulk of the data is concentrated on the right.\n",
    "##### Mean < Median < Mode."
   ]
  },
  {
   "cell_type": "markdown",
   "id": "4f97c57c-b606-41ed-8496-095f7252eeb4",
   "metadata": {
    "jp-MarkdownHeadingCollapsed": true
   },
   "source": [
    "### Q19) What does it mean if a dataset is positively or negatively skewed?"
   ]
  },
  {
   "cell_type": "markdown",
   "id": "0d4b13ea-aee6-46bc-bfd9-8968738adefe",
   "metadata": {},
   "source": [
    "#### ANS- Positive Skewness (Right Skew): The tail on the right side of the distribution is longer or heavier, meaning there are more extreme values on the higher end of the data.  \n",
    "#### Negative Skewness (Left Skew): The tail on the left side of the distribution is longer or heavier, meaning there are more extreme values on the lower end of the data."
   ]
  },
  {
   "cell_type": "markdown",
   "id": "c39de0fd-b4ba-4b3f-8f21-39e51c2a672d",
   "metadata": {
    "jp-MarkdownHeadingCollapsed": true
   },
   "source": [
    "### Q20) Define and explain kurtosis."
   ]
  },
  {
   "cell_type": "markdown",
   "id": "ae9d1862-fc79-4df9-bb24-b9a159ec6f8c",
   "metadata": {},
   "source": [
    "#### ANS- In statistics, kurtosis is a measure that describes the shape of a probability distribution, particularly the \"tailedness\" or \"peakedness\" of the distribution compared to a normal distribution. It helps determine if a dataset has more extreme values (outliers) or if it follows a more typical pattern."
   ]
  },
  {
   "cell_type": "markdown",
   "id": "7cae6389-0ce9-4841-8b70-1d742ce1763b",
   "metadata": {},
   "source": [
    "#### What it measures:\n",
    "##### Peakedness: Kurtosis indicates how sharply a distribution is peaked compared to a normal distribution. \n",
    "##### Tailedness: It also reflects the \"tailedness\" of a distribution, meaning how much data is concentrated in the tails (extreme values). \n",
    "##### Outliers: Kurtosis helps identify the presence of outliers in a dataset. "
   ]
  },
  {
   "cell_type": "markdown",
   "id": "2ced992e-000f-45d1-b45b-6ba5370f51f7",
   "metadata": {},
   "source": [
    "####  Types of Kurtosis:\n",
    "##### Leptokurtic: A distribution with a higher peak and heavier tails than a normal distribution (positive kurtosis). \n",
    "##### Mesokurtic: A distribution with a normal peak and tails (kurtosis of 3). \n",
    "##### Platykurtic: A distribution with a flatter peak and lighter tails than a normal distribution (negative kurtosis)."
   ]
  },
  {
   "cell_type": "markdown",
   "id": "ba495a0c-d86e-41f5-bec8-960d010784d4",
   "metadata": {},
   "source": [
    "#### Formula:\n",
    "The kurtosis formula is often represented as β₂ = (E(x)⁴ / (E(x)²)² - 3, where E is the expected value of x."
   ]
  },
  {
   "cell_type": "markdown",
   "id": "6d2bd746-b119-4957-8db4-ea550f049286",
   "metadata": {
    "jp-MarkdownHeadingCollapsed": true
   },
   "source": [
    "### Q21) What is the purpose of covariance?"
   ]
  },
  {
   "cell_type": "markdown",
   "id": "988f2ee4-437b-4fa5-b65f-c6cee4b348ba",
   "metadata": {},
   "source": [
    "#### ANS- Covariance in statistics serves as a measure of how two variables change together. It indicates the direction of their relationship, whether they move in the same or opposite directions. A positive covariance suggests that as one variable increases, the other also tends to increase, while a negative covariance indicates that as one variable increases, the other variable tends to decrease."
   ]
  },
  {
   "cell_type": "markdown",
   "id": "3712b5f8-4bd4-4b8d-a26d-2b3bcdede510",
   "metadata": {
    "jp-MarkdownHeadingCollapsed": true
   },
   "source": [
    "### Q22) What does correlation measure in statistics?"
   ]
  },
  {
   "cell_type": "markdown",
   "id": "f34b2184-84dd-4a0b-888a-289b985c4a44",
   "metadata": {},
   "source": [
    "#### ANS- In statistics, correlation describes a relationship between two variables, indicating how they change together. It measures the extent to which two variables are linearly related, meaning they change together at a constant rate.The correlation coefficient, often denoted as 'r', is a measure that ranges from -1 to 1. A value close to 1 indicates a strong positive correlation, -1 indicates a strong negative correlation, and 0 indicates no linear relationship."
   ]
  },
  {
   "cell_type": "markdown",
   "id": "e9d0c84a-a3ea-405d-8cf2-7ddcdee93603",
   "metadata": {
    "jp-MarkdownHeadingCollapsed": true
   },
   "source": [
    "### Q23) What is the difference between covariance and correlation?"
   ]
  },
  {
   "cell_type": "markdown",
   "id": "e36ef852-d0fd-403d-a753-34f55bae527a",
   "metadata": {},
   "source": [
    "#### ANS- The difference between covariance and correlation are:-\n",
    "#### Covariance measures how two random variables change together, while correlation measures the strength and direction of their linear relationship. Covariance can range from negative to positive infinity, while correlation is always between -1 and 1.Covariance: Can be any real number, positive or negative while Correlation: Always between -1 and 1:-\n",
    "##### +1: Perfect positive linear relationship.\n",
    "##### −1: Perfect negative linear relationship.\n",
    "##### 0: No linear relationship."
   ]
  },
  {
   "cell_type": "markdown",
   "id": "cceee866-c94f-4766-9f69-658ccb250831",
   "metadata": {},
   "source": [
    "#### Covariance is not standardized, so its value depends on the units of the variables while Correlation is standardized, unitless and always between -1 and +1, making it easier to interpret and compare."
   ]
  },
  {
   "cell_type": "markdown",
   "id": "28dbf735-65c4-46e6-8347-722692bf5634",
   "metadata": {
    "jp-MarkdownHeadingCollapsed": true
   },
   "source": [
    "### Q24) What are some real-world applications of statistics?"
   ]
  },
  {
   "cell_type": "markdown",
   "id": "b6cf14da-47bb-4064-96aa-1a99fb10fe26",
   "metadata": {},
   "source": [
    "#### ANS- Some real-world applications of statistics are:-"
   ]
  },
  {
   "cell_type": "markdown",
   "id": "9b911bed-5d1e-497e-b47a-60fd644ba23d",
   "metadata": {},
   "source": [
    "#### 1. Healthcare\n",
    "Used in clinical trials to test new drugs and treatments.\n",
    "\n",
    "Tracks disease outbreaks and predicts public health trends.\n",
    "\n",
    "#### 2. Finance\n",
    "Analyzes stock market trends and investment risks.\n",
    "\n",
    "Helps in making informed decisions through risk modeling.\n",
    "\n",
    "#### 3. Business & Marketing\n",
    "Guides product development and advertising through customer data analysis.\n",
    "\n",
    "A/B testing helps optimize websites, apps, and marketing strategies.\n",
    "\n",
    "#### 4. Education\n",
    "Evaluates student performance and effectiveness of teaching methods.\n",
    "\n",
    "Helps design standardized tests and interpret results.\n",
    "\n",
    "#### 5. Government & Policy Making\n",
    "Informs decisions using census data and economic indicators.\n",
    "\n",
    "Supports resource allocation, public health planning, and infrastructure development."
   ]
  },
  {
   "cell_type": "markdown",
   "id": "8f55bd79-5397-4f2c-b589-66d491c76366",
   "metadata": {},
   "source": [
    "# Practical"
   ]
  },
  {
   "cell_type": "markdown",
   "id": "cadd41ff-5678-4939-83de-bb5c41e6aa3d",
   "metadata": {
    "jp-MarkdownHeadingCollapsed": true
   },
   "source": [
    "### Q1) How do you calculate the mean, median, and mode of a dataset?"
   ]
  },
  {
   "cell_type": "markdown",
   "id": "294d58b9-12a8-470a-a9e2-0e7cd9df69e2",
   "metadata": {},
   "source": [
    "#### ANS- "
   ]
  },
  {
   "cell_type": "code",
   "execution_count": 1,
   "id": "35a3efd1-573f-4948-9fe3-3ea99e12ba9a",
   "metadata": {},
   "outputs": [
    {
     "data": {
      "text/plain": [
       "4.333333333333333"
      ]
     },
     "execution_count": 1,
     "metadata": {},
     "output_type": "execute_result"
    }
   ],
   "source": [
    "import statistics\n",
    "nos = [4, 2, 2, 3, 7, 8]\n",
    "statistics.mean(nos)"
   ]
  },
  {
   "cell_type": "code",
   "execution_count": 2,
   "id": "2f2a1082-5915-43bb-862b-e713d3379439",
   "metadata": {},
   "outputs": [
    {
     "data": {
      "text/plain": [
       "3.5"
      ]
     },
     "execution_count": 2,
     "metadata": {},
     "output_type": "execute_result"
    }
   ],
   "source": [
    "statistics.median(nos)"
   ]
  },
  {
   "cell_type": "code",
   "execution_count": 3,
   "id": "03baca9b-be1a-4828-9dd0-1ee682948a5d",
   "metadata": {},
   "outputs": [
    {
     "data": {
      "text/plain": [
       "2"
      ]
     },
     "execution_count": 3,
     "metadata": {},
     "output_type": "execute_result"
    }
   ],
   "source": [
    "statistics.mode(nos)"
   ]
  },
  {
   "cell_type": "markdown",
   "id": "f8d279ae-72ab-4257-994b-52ee0244da4f",
   "metadata": {
    "jp-MarkdownHeadingCollapsed": true
   },
   "source": [
    "### Q2) Write a Python program to compute the variance and standard deviation of a dataset."
   ]
  },
  {
   "cell_type": "markdown",
   "id": "35cbabb8-1ff0-40ca-8fe6-51eab8982a00",
   "metadata": {},
   "source": [
    "#### ANS- "
   ]
  },
  {
   "cell_type": "code",
   "execution_count": 4,
   "id": "966751e3-0b72-4206-bacc-14870d3e69cf",
   "metadata": {},
   "outputs": [
    {
     "data": {
      "text/plain": [
       "[2, 3, 4, 5, 8, 9, 12, 40, 41, 15]"
      ]
     },
     "execution_count": 4,
     "metadata": {},
     "output_type": "execute_result"
    }
   ],
   "source": [
    "import numpy as np\n",
    "data = [2, 3, 4, 5, 8, 9, 12, 40, 41, 15]\n",
    "data"
   ]
  },
  {
   "cell_type": "code",
   "execution_count": 5,
   "id": "33f0035f-d14f-421a-a187-45eb7fa77a73",
   "metadata": {},
   "outputs": [
    {
     "data": {
      "text/plain": [
       "np.float64(191.69000000000003)"
      ]
     },
     "execution_count": 5,
     "metadata": {},
     "output_type": "execute_result"
    }
   ],
   "source": [
    "np.var(data)"
   ]
  },
  {
   "cell_type": "code",
   "execution_count": 6,
   "id": "67e13489-302f-456d-affd-5a8687e1d598",
   "metadata": {},
   "outputs": [
    {
     "data": {
      "text/plain": [
       "np.float64(13.8452157801892)"
      ]
     },
     "execution_count": 6,
     "metadata": {},
     "output_type": "execute_result"
    }
   ],
   "source": [
    "np.std(data)"
   ]
  },
  {
   "cell_type": "markdown",
   "id": "d53def59-43f4-4ddd-abf2-4136f03cb55c",
   "metadata": {
    "jp-MarkdownHeadingCollapsed": true
   },
   "source": [
    "### Q3) Create a dataset and classify it into nominal, ordinal, interval, and ratio types."
   ]
  },
  {
   "cell_type": "markdown",
   "id": "110986b7-5a86-4be5-96c7-87edc280c994",
   "metadata": {},
   "source": [
    "#### ANS- "
   ]
  },
  {
   "cell_type": "code",
   "execution_count": null,
   "id": "6f4588ff-90c2-4af8-861d-df8fecad8ead",
   "metadata": {},
   "outputs": [],
   "source": [
    "|Person  | Favorite Fruit | Size   | Taste Rating | Weight (g) |\n",
    "| ------ | -------------- | ------ | ------------ | ---------- |\n",
    "| John   | Apple          | Medium | 7            | 150        |\n",
    "| Sara   | Banana         | Large  | 8            | 120        |\n",
    "| Mike   | Orange         | Small  | 6            | 130        |"
   ]
  },
  {
   "cell_type": "code",
   "execution_count": null,
   "id": "9ab31f97-30cb-4785-8c83-5e4677c91d0b",
   "metadata": {},
   "outputs": [],
   "source": [
    "| Variable       | Data Type | Explanation                                                                                |\n",
    "|----------------| --------- |--------------------------------------------------------------------------------------------|\n",
    "| Person         | Nominal   | Names are labels without order.                                                            |\n",
    "| Favorite Fruit | Nominal   | Fruit types are categories.                                                                |\n",
    "| Size           | Ordinal   | Small < Medium < Large – there is an order, but not measurable differences.                |\n",
    "| Taste Rating   | Interval  | Rating on a scale (e.g., 1–10) has equal intervals, but no true zero.                      |\n",
    "| Weight (g)     | Ratio     | Measurable quantity with a true zero, and comparisons like \"twice as heavy\" are meaningful.|"
   ]
  },
  {
   "cell_type": "markdown",
   "id": "ac489276-b6a9-4907-8009-1b25c8f784d1",
   "metadata": {
    "jp-MarkdownHeadingCollapsed": true
   },
   "source": [
    "### Q4) Implement sampling techniques like random sampling and stratified sampling."
   ]
  },
  {
   "cell_type": "markdown",
   "id": "2d52bc52-4242-4f3a-af3d-1a56c127b2d3",
   "metadata": {},
   "source": [
    "#### ANS- "
   ]
  },
  {
   "cell_type": "code",
   "execution_count": null,
   "id": "511e10c0-280e-42dd-a6bf-fda83307a0a2",
   "metadata": {},
   "outputs": [],
   "source": [
    "| ID | Name  | Grade | Gender |\n",
    "| -- | ----- | ----- | ------ |\n",
    "| 1  | Alice | 85    | Female |\n",
    "| 2  | Bob   | 78    | Male   |\n",
    "| 3  | Carol | 92    | Female |\n",
    "| 4  | Dave  | 88    | Male   |\n",
    "| 5  | Eve   | 76    | Female |\n",
    "| 6  | Frank | 90    | Male   |\n",
    "| 7  | Grace | 89    | Female |"
   ]
  },
  {
   "cell_type": "code",
   "execution_count": null,
   "id": "b45ed5b0-331e-4512-82f9-ade1a85c9822",
   "metadata": {},
   "outputs": [],
   "source": [
    "#random sampling- Every data point has an equal chance of being selected.Example: Select 3 students randomly from the dataset.\n",
    "| ID | Name  | Grade | Gender |\n",
    "| -- | ----- | ----- | ------ |\n",
    "| 2  | Bob   | 78    | Male   |\n",
    "| 7  | Grace | 89    | Female |\n",
    "| 5  | Eve   | 76    | Female |"
   ]
  },
  {
   "cell_type": "code",
   "execution_count": null,
   "id": "0e0a640b-f570-4ea8-a75d-baa2d00aa04f",
   "metadata": {},
   "outputs": [],
   "source": [
    "#stratified sampling- The population is divided into strata (groups), and a sample is taken proportionally from each stratum.Stratify by: Gender (Male / Female)\n",
    "| ID | Name  | Grade | Gender |\n",
    "| -- | ----- | ----- | ------ |\n",
    "| 3  | Carol | 92    | Female |\n",
    "| 6  | Frank | 90    | Male   |"
   ]
  },
  {
   "cell_type": "markdown",
   "id": "7e4e11d2-903d-4678-90e2-d49aff2e4fd2",
   "metadata": {
    "jp-MarkdownHeadingCollapsed": true
   },
   "source": [
    "### Q5) Write a Python function to calculate the range of a dataset."
   ]
  },
  {
   "cell_type": "markdown",
   "id": "84c676d5-4b0a-4a3c-b531-4d24021c6ca7",
   "metadata": {},
   "source": [
    "#### ANS- "
   ]
  },
  {
   "cell_type": "code",
   "execution_count": null,
   "id": "e1aa0967-5c3a-4453-a6af-86122d7c0fea",
   "metadata": {},
   "outputs": [],
   "source": [
    "data = [2, 3, 4, 5, 8, 9, 12, 40, 41, 15]\n",
    "data"
   ]
  },
  {
   "cell_type": "code",
   "execution_count": null,
   "id": "05569345-1443-4ae3-b9bd-1388f08597cc",
   "metadata": {},
   "outputs": [],
   "source": [
    "#1. range\n",
    "max(data) - min(data)"
   ]
  },
  {
   "cell_type": "markdown",
   "id": "eb12be95-502f-452b-898a-a5581b605630",
   "metadata": {
    "jp-MarkdownHeadingCollapsed": true
   },
   "source": [
    "### Q6) Create a dataset and plot its histogram to visualize skewness."
   ]
  },
  {
   "cell_type": "markdown",
   "id": "a4602cb6-e1c7-4484-83c1-f52a0df5070c",
   "metadata": {},
   "source": [
    "#### ANS- "
   ]
  },
  {
   "cell_type": "code",
   "execution_count": 1,
   "id": "4c99adbf-8dfb-4309-91ec-71d180bbb3d7",
   "metadata": {},
   "outputs": [
    {
     "data": {
      "image/png": "[encoded data removed]",
      "text/plain": [
       "<Figure size 800x500 with 1 Axes>"
      ]
     },
     "metadata": {},
     "output_type": "display_data"
    }
   ],
   "source": [
    "import numpy as np\n",
    "import matplotlib.pyplot as plt\n",
    "\n",
    "# Create a skewed dataset using exponential distribution\n",
    "np.random.seed(42)\n",
    "data = np.random.exponential(scale=2.0, size=1000)\n",
    "\n",
    "# Plotting the histogram\n",
    "plt.figure(figsize=(8, 5))\n",
    "plt.hist(data, bins=30, color='skyblue', edgecolor='black')\n",
    "plt.title('Histogram of Skewed Data (Exponential Distribution)')\n",
    "plt.xlabel('Value')\n",
    "plt.ylabel('Frequency')\n",
    "plt.grid(True)\n",
    "plt.show()"
   ]
  },
  {
   "cell_type": "markdown",
   "id": "5db2150b-7935-4af0-adaa-36b66b30a96f",
   "metadata": {
    "jp-MarkdownHeadingCollapsed": true
   },
   "source": [
    "### Q7) Calculate skewness and kurtosis of a dataset using Python libraries."
   ]
  },
  {
   "cell_type": "markdown",
   "id": "3f472140-cb22-4304-9488-199af81ae48a",
   "metadata": {},
   "source": [
    "#### ANS-"
   ]
  },
  {
   "cell_type": "code",
   "execution_count": 15,
   "id": "e970dea9-ab92-417d-99af-0231927a733f",
   "metadata": {},
   "outputs": [
    {
     "name": "stdout",
     "output_type": "stream",
     "text": [
      "Scipy Skewness: 0.3453\n",
      "Scipy Excess Kurtosis: -1.1481\n",
      "Pandas Skewness: 0.4095\n",
      "Pandas Excess Kurtosis: -1.0654\n"
     ]
    }
   ],
   "source": [
    "import numpy as np\n",
    "import pandas as pd\n",
    "from scipy.stats import skew, kurtosis\n",
    "data = [12, 15, 13, 14, 17, 21, 22, 24, 26, 30]\n",
    "\n",
    "skewness = skew(data)\n",
    "kurt = kurtosis(data) \n",
    "\n",
    "series = pd.Series(data)\n",
    "pandas_skewness = series.skew()\n",
    "pandas_kurtosis = series.kurt() \n",
    "\n",
    "print(f\"Scipy Skewness: {skewness:.4f}\")\n",
    "print(f\"Scipy Excess Kurtosis: {kurt:.4f}\")\n",
    "print(f\"Pandas Skewness: {pandas_skewness:.4f}\")\n",
    "print(f\"Pandas Excess Kurtosis: {pandas_kurtosis:.4f}\")\n"
   ]
  },
  {
   "cell_type": "markdown",
   "id": "9f3cc8a0-9e1f-472d-9d20-2c5f4c23b6dc",
   "metadata": {
    "jp-MarkdownHeadingCollapsed": true
   },
   "source": [
    "### Q8) Generate a dataset and demonstrate positive and negative skewness."
   ]
  },
  {
   "cell_type": "markdown",
   "id": "6a281488-6919-4524-9ed8-50dcc15bc6a7",
   "metadata": {},
   "source": [
    "#### ANS- "
   ]
  },
  {
   "cell_type": "code",
   "execution_count": 2,
   "id": "b4a0e430-cce8-432b-9d99-66be7fe32ddb",
   "metadata": {},
   "outputs": [
    {
     "data": {
      "image/png": "[encoded data removed]",
      "text/plain": [
       "<Figure size 1400x500 with 2 Axes>"
      ]
     },
     "metadata": {},
     "output_type": "display_data"
    }
   ],
   "source": [
    "import numpy as np\n",
    "import matplotlib.pyplot as plt\n",
    "np.random.seed(42)\n",
    "\n",
    "# Positive skew: Exponential distribution\n",
    "positive_skew = np.random.exponential(scale=2.0, size=1000)\n",
    "\n",
    "# Negative skew: Flip the exponential distribution to make it left-skewed\n",
    "negative_skew = -np.random.exponential(scale=2.0, size=1000)\n",
    "\n",
    "fig, axes = plt.subplots(1, 2, figsize=(14, 5))\n",
    "\n",
    "# Positive skew\n",
    "axes[0].hist(positive_skew, bins=30, color='skyblue', edgecolor='black')\n",
    "axes[0].set_title('Positive Skew (Right-Skewed)')\n",
    "axes[0].set_xlabel('Value')\n",
    "axes[0].set_ylabel('Frequency')\n",
    "axes[0].grid(True)\n",
    "\n",
    "# Negative skew\n",
    "axes[1].hist(negative_skew, bins=30, color='salmon', edgecolor='black')\n",
    "axes[1].set_title('Negative Skew (Left-Skewed)')\n",
    "axes[1].set_xlabel('Value')\n",
    "axes[1].set_ylabel('Frequency')\n",
    "axes[1].grid(True)\n",
    "\n",
    "plt.tight_layout()\n",
    "plt.show()\n"
   ]
  },
  {
   "cell_type": "markdown",
   "id": "50b7b027-1f13-4d79-9e2a-f8a17238cbf5",
   "metadata": {
    "jp-MarkdownHeadingCollapsed": true
   },
   "source": [
    "### Q9) Write a Python script to calculate covariance between two datasets."
   ]
  },
  {
   "cell_type": "markdown",
   "id": "ebe224ab-3541-4432-8604-0eeb44987bdc",
   "metadata": {},
   "source": [
    "#### ANS-"
   ]
  },
  {
   "cell_type": "code",
   "execution_count": 14,
   "id": "10e09c44-fa2b-4be9-8094-e0fc9872984f",
   "metadata": {},
   "outputs": [
    {
     "name": "stdout",
     "output_type": "stream",
     "text": [
      "=== Covariance Results ===\n",
      "Manual Computation Covariance: 272.5000\n",
      "NumPy Covariance:              272.5000\n"
     ]
    }
   ],
   "source": [
    "import numpy as np\n",
    "\n",
    "def calculate_covariance(x_data, y_data):\n",
    "    x = np.array(x_data)\n",
    "    y = np.array(y_data)\n",
    "\n",
    "    if len(x) != len(y):\n",
    "        raise ValueError(\"Datasets must be the same length.\")\n",
    "        \n",
    "    mean_x = np.mean(x)\n",
    "    mean_y = np.mean(y)\n",
    "    covariance = np.sum((x - mean_x) * (y - mean_y)) / (len(x) - 1)\n",
    "\n",
    "    # NumPy built-in covariance (returns a matrix)\n",
    "    covariance_matrix = np.cov(x, y, bias=False)\n",
    "    numpy_covariance = covariance_matrix[0, 1]\n",
    "\n",
    "    print(\"=== Covariance Results ===\")\n",
    "    print(f\"Manual Computation Covariance: {covariance:.4f}\")\n",
    "    print(f\"NumPy Covariance:              {numpy_covariance:.4f}\")\n",
    "\n",
    "if __name__ == \"__main__\":\n",
    "    dataset1 = [10, 20, 30, 40, 50]\n",
    "    dataset2 = [12, 24, 33, 47, 55]\n",
    "\n",
    "    calculate_covariance(dataset1, dataset2)\n"
   ]
  },
  {
   "cell_type": "markdown",
   "id": "bbca757c-03d7-4f66-ade1-ac0515cfca4f",
   "metadata": {
    "jp-MarkdownHeadingCollapsed": true
   },
   "source": [
    "### Q10) Write a Python script to calculate the correlation coefficient between two datasets."
   ]
  },
  {
   "cell_type": "markdown",
   "id": "f728e44a-8583-4f3e-8af4-3921b8966eba",
   "metadata": {},
   "source": [
    "#### ANS-"
   ]
  },
  {
   "cell_type": "code",
   "execution_count": 13,
   "id": "e39d8009-25d4-43a7-9fa8-87fbb57a198f",
   "metadata": {},
   "outputs": [
    {
     "name": "stdout",
     "output_type": "stream",
     "text": [
      "=== Correlation Coefficients ===\n",
      "Pearson Correlation:  0.9959 (p-value: 3.1573e-04)\n",
      "Spearman Correlation: 1.0000 (p-value: 1.4043e-24)\n"
     ]
    }
   ],
   "source": [
    "import numpy as np\n",
    "from scipy.stats import pearsonr, spearmanr\n",
    "dataset1 = [10, 20, 30, 40, 50]\n",
    "dataset2 = [15, 25, 35, 45, 60]\n",
    "\n",
    "x = np.array(dataset1)\n",
    "y = np.array(dataset2)\n",
    "\n",
    "if len(x) != len(y):\n",
    "    raise ValueError(\"Datasets must be the same length.\")\n",
    "\n",
    "# Calculate Pearson correlation\n",
    "pearson_corr, pearson_pval = pearsonr(x, y)\n",
    "\n",
    "# Calculate Spearman correlation\n",
    "spearman_corr, spearman_pval = spearmanr(x, y)\n",
    "\n",
    "# Output results\n",
    "print(\"=== Correlation Coefficients ===\")\n",
    "print(f\"Pearson Correlation:  {pearson_corr:.4f} (p-value: {pearson_pval:.4e})\")\n",
    "print(f\"Spearman Correlation: {spearman_corr:.4f} (p-value: {spearman_pval:.4e})\")\n"
   ]
  },
  {
   "cell_type": "markdown",
   "id": "11ec3579-6694-4557-aeae-7c8885de8fe6",
   "metadata": {
    "jp-MarkdownHeadingCollapsed": true
   },
   "source": [
    "### Q11) Create a scatter plot to visualize the relationship between two variables."
   ]
  },
  {
   "cell_type": "markdown",
   "id": "93eaeb2f-03bb-4a13-be86-734a10a15264",
   "metadata": {},
   "source": [
    "#### ANS- "
   ]
  },
  {
   "cell_type": "code",
   "execution_count": 3,
   "id": "72015923-6c10-48c1-8330-5061866844c0",
   "metadata": {},
   "outputs": [
    {
     "data": {
      "image/png": "[encoded data removed]",
      "text/plain": [
       "<Figure size 800x600 with 1 Axes>"
      ]
     },
     "metadata": {},
     "output_type": "display_data"
    }
   ],
   "source": [
    "import matplotlib.pyplot as plt\n",
    "\n",
    "# Sample data: Height (in cm) and Weight (in kg)\n",
    "height = [150, 155, 160, 165, 170, 175, 180, 185, 190, 195]\n",
    "weight = [50, 53, 56, 60, 65, 70, 74, 78, 85, 90]\n",
    "\n",
    "# Create scatter plot\n",
    "plt.figure(figsize=(8, 6))\n",
    "plt.scatter(height, weight, color='green', alpha=0.8)\n",
    "plt.title('Scatter Plot of Height vs. Weight')\n",
    "plt.xlabel('Height (cm)')\n",
    "plt.ylabel('Weight (kg)')\n",
    "plt.grid(True)\n",
    "plt.tight_layout()\n",
    "plt.show()"
   ]
  },
  {
   "cell_type": "markdown",
   "id": "4522f1d9-edcc-4129-90aa-7e038d6c50ea",
   "metadata": {
    "jp-MarkdownHeadingCollapsed": true
   },
   "source": [
    "### Q12) Implement and compare simple random sampling and systematic sampling."
   ]
  },
  {
   "cell_type": "markdown",
   "id": "4d78e62e-7701-4cc8-9743-204cdf1a8b5a",
   "metadata": {},
   "source": [
    "#### ANS- "
   ]
  },
  {
   "cell_type": "code",
   "execution_count": 20,
   "id": "ed8612bc-54dc-436c-a656-c33a7d063e97",
   "metadata": {},
   "outputs": [
    {
     "name": "stdout",
     "output_type": "stream",
     "text": [
      "Population Mean: 50193.32\n",
      "SRS Mean: 51384.71\n",
      "Systematic Mean: 49522.28\n"
     ]
    },
    {
     "data": {
      "image/png": "[encoded data removed]",
      "text/plain": [
       "<Figure size 640x480 with 1 Axes>"
      ]
     },
     "metadata": {},
     "output_type": "display_data"
    }
   ],
   "source": [
    "import numpy as np\n",
    "import pandas as pd\n",
    "import matplotlib.pyplot as plt\n",
    "\n",
    "# Create a synthetic dataset (e.g., population of 1000 values)\n",
    "np.random.seed(42)\n",
    "population = np.random.normal(loc=50000, scale=10000, size=1000)  # Mean=50,000, SD=10,000\n",
    "\n",
    "def simple_random_sampling(data, sample_size):\n",
    "    return np.random.choice(data, size=sample_size, replace=False)\n",
    "\n",
    "def systematic_sampling(data, sample_size):\n",
    "    step = len(data) // sample_size\n",
    "    start = np.random.randint(0, step)\n",
    "    return data[start::step][:sample_size]\n",
    "\n",
    "sample_size = 100\n",
    "srs_sample = simple_random_sampling(population, sample_size)\n",
    "sys_sample = systematic_sampling(population, sample_size)\n",
    "\n",
    "\n",
    "# Descriptive statistics\n",
    "srs_mean = np.mean(srs_sample)\n",
    "sys_mean = np.mean(sys_sample)\n",
    "pop_mean = np.mean(population)\n",
    "\n",
    "print(f\"Population Mean: {pop_mean:.2f}\")\n",
    "print(f\"SRS Mean: {srs_mean:.2f}\")\n",
    "print(f\"Systematic Mean: {sys_mean:.2f}\")\n",
    "\n",
    "plt.hist(population, bins=30, alpha=0.5, label='Population')\n",
    "plt.hist(srs_sample, bins=30, alpha=0.7, label='SRS')\n",
    "plt.hist(sys_sample, bins=30, alpha=0.7, label='Systematic')\n",
    "plt.legend()\n",
    "plt.title(\"Sampling Methods Comparison\")\n",
    "plt.xlabel(\"Value\")\n",
    "plt.ylabel(\"Frequency\")\n",
    "plt.show()\n"
   ]
  },
  {
   "cell_type": "markdown",
   "id": "f51678ba-af53-4c5b-8a57-b296834718e7",
   "metadata": {
    "jp-MarkdownHeadingCollapsed": true
   },
   "source": [
    "### Q13) Calculate the mean, median, and mode of grouped data."
   ]
  },
  {
   "cell_type": "markdown",
   "id": "ab6074c0-5182-4163-a85e-9f3ba1b5862b",
   "metadata": {
    "jp-MarkdownHeadingCollapsed": true
   },
   "source": [
    "#### ANS- "
   ]
  },
  {
   "cell_type": "code",
   "execution_count": null,
   "id": "8890b89e-05c0-4bb0-b101-f8e458f7f59b",
   "metadata": {},
   "outputs": [],
   "source": [
    "| Class Interval | Frequency (f) |\n",
    "| -------------- | ------------- |\n",
    "| 10 - 20        | 5             |\n",
    "| 20 - 30        | 8             |\n",
    "| 30 - 40        | 15            |\n",
    "| 40 - 50        | 16            |\n",
    "| 50 - 60        | 6             |\n"
   ]
  },
  {
   "cell_type": "code",
   "execution_count": null,
   "id": "6f696905-0842-4370-a853-19a8aed49bdd",
   "metadata": {},
   "outputs": [],
   "source": [
    "| Class Interval | Frequency (f) | Midpoint (x) | f·x |\n",
    "| -------------- | ------------- | ------------ | --- |\n",
    "| 10 - 20        | 5             | 15           | 75  |\n",
    "| 20 - 30        | 8             | 25           | 200 |\n",
    "| 30 - 40        | 15            | 35           | 525 |\n",
    "| 40 - 50        | 16            | 45           | 720 |\n",
    "| 50 - 60        | 6             | 55           | 330 |\n"
   ]
  },
  {
   "cell_type": "code",
   "execution_count": null,
   "id": "e9ca7337-7e1d-47a4-929c-9f331edee5ad",
   "metadata": {},
   "outputs": [],
   "source": [
    "mean:\n",
    "\n",
    "mean=∑𝑓⋅𝑥\\∑𝑓=75+200+525+720+330\\5+8+15+16+6=1850\\50=37\n",
    "Mean = 37"
   ]
  },
  {
   "cell_type": "markdown",
   "id": "a8b04742-dfb7-41d5-8cd4-14ec9da1b998",
   "metadata": {},
   "source": [
    "Total frequency \n",
    "N=50\n",
    "\n",
    "𝑁\\2=25\\2=25 → The median class is the class where the cumulative frequency exceeds 25."
   ]
  },
  {
   "cell_type": "code",
   "execution_count": null,
   "id": "f87554e4-fca5-4cda-afd6-3bea43d88722",
   "metadata": {},
   "outputs": [],
   "source": [
    "| Class Interval | Frequency (f) | Cumulative Frequency |\n",
    "| -------------- | ------------- | -------------------- |\n",
    "| 10 - 20        | 5             | 5                    |\n",
    "| 20 - 30        | 8             | 13                   |\n",
    "| 30 - 40        | 15            | 28 ⬅️ Median class   |\n",
    "| 40 - 50        | 16            | 44                   |\n",
    "| 50 - 60        | 6             | 50                   |\n"
   ]
  },
  {
   "cell_type": "code",
   "execution_count": null,
   "id": "c1f7e938-f389-43e2-b6e2-9148e6358dc9",
   "metadata": {},
   "outputs": [],
   "source": [
    "Median=30+(25−13 \\15)⋅10=30+(12\\15)⋅10=30+8=38\n",
    "Median = 38"
   ]
  },
  {
   "cell_type": "code",
   "execution_count": null,
   "id": "a2012c21-635c-42c4-a6b4-1a6514f015cb",
   "metadata": {},
   "outputs": [],
   "source": [
    "Modal class = class with the highest frequency → 40 - 50 (frequency = 16)"
   ]
  },
  {
   "cell_type": "code",
   "execution_count": null,
   "id": "068f5472-e7ef-49d1-a2e8-1e1a9cf49455",
   "metadata": {},
   "outputs": [],
   "source": [
    "Mode=40+( 16−15\\2(16)−15−6)⋅10=40+(1\\32−21)⋅10≈40.91\n",
    "Mode ≈ 40.91"
   ]
  },
  {
   "cell_type": "markdown",
   "id": "7855bfde-dd02-4316-8c10-ffbced9ccfd9",
   "metadata": {
    "jp-MarkdownHeadingCollapsed": true
   },
   "source": [
    "### Q14) Simulate data using Python and calculate its central tendency and dispersion."
   ]
  },
  {
   "cell_type": "markdown",
   "id": "32f41959-3d8d-49d8-b4a0-33fb07380d3b",
   "metadata": {},
   "source": [
    "#### ANS- "
   ]
  },
  {
   "cell_type": "code",
   "execution_count": 10,
   "id": "aa2650ce-4003-4542-a1fc-a0cb13d4d07b",
   "metadata": {},
   "outputs": [
    {
     "name": "stdout",
     "output_type": "stream",
     "text": [
      "Collecting scipy\n",
      "  Using cached scipy-1.15.3-cp313-cp313-win_amd64.whl.metadata (60 kB)\n",
      "Requirement already satisfied: numpy<2.5,>=1.23.5 in c:\\users\\kiit\\appdata\\local\\programs\\python\\python313\\lib\\site-packages (from scipy) (2.2.5)\n",
      "Using cached scipy-1.15.3-cp313-cp313-win_amd64.whl (41.0 MB)\n",
      "Installing collected packages: scipy\n",
      "Successfully installed scipy-1.15.3\n",
      "Note: you may need to restart the kernel to use updated packages.\n"
     ]
    }
   ],
   "source": [
    "pip install scipy"
   ]
  },
  {
   "cell_type": "code",
   "execution_count": 13,
   "id": "b2c7fafb-bfcd-45af-9434-b3d2f0e2cf25",
   "metadata": {},
   "outputs": [
    {
     "name": "stdout",
     "output_type": "stream",
     "text": [
      "Simulated Data (first 10 values): [54.97 48.62 56.48 65.23 47.66 47.66 65.79 57.67 45.31 55.43]\n",
      "\n",
      "📊 Central Tendency:\n",
      "Mean: 48.9616\n",
      "Median: 48.730000000000004\n",
      "Mode: 47.66\n",
      "\n",
      "📈 Dispersion:\n",
      "Range: 44.72\n",
      "Variance: 82.4848458989899\n",
      "Standard Deviation: 9.0821168181757\n",
      "IQR (Interquartile Range): 10.075000000000003\n"
     ]
    }
   ],
   "source": [
    "import numpy as np\n",
    "import pandas as pd\n",
    "from scipy import stats\n",
    "\n",
    "# Step 1: Simulate data\n",
    "np.random.seed(42)  \n",
    "data = np.random.normal(loc=50, scale=10, size=100)  # Mean=50, SD=10, n=100\n",
    "data = np.round(data, 2) \n",
    "\n",
    "df = pd.DataFrame(data, columns=['Value'])\n",
    "\n",
    "# Step 2: Central Tendency\n",
    "mean = np.mean(data)\n",
    "median = np.median(data)\n",
    "mode = stats.mode(data, keepdims=True).mode[0]\n",
    "\n",
    "# Step 3: Dispersion\n",
    "data_range = np.max(data) - np.min(data)\n",
    "variance = np.var(data, ddof=1)\n",
    "std_dev = np.std(data, ddof=1)\n",
    "iqr = stats.iqr(data)\n",
    "\n",
    "# Step 4: Display results\n",
    "print(\"Simulated Data (first 10 values):\", data[:10])\n",
    "print(\"\\n📊 Central Tendency:\")\n",
    "print(f\"Mean: {mean}\")\n",
    "print(f\"Median: {median}\")\n",
    "print(f\"Mode: {mode}\")\n",
    "\n",
    "print(\"\\n📈 Dispersion:\")\n",
    "print(f\"Range: {data_range}\")\n",
    "print(f\"Variance: {variance}\")\n",
    "print(f\"Standard Deviation: {std_dev}\")\n",
    "print(f\"IQR (Interquartile Range): {iqr}\")\n"
   ]
  },
  {
   "cell_type": "markdown",
   "id": "512b9540-3975-4854-911f-2c88a7518672",
   "metadata": {
    "jp-MarkdownHeadingCollapsed": true
   },
   "source": [
    "### Q15) Use NumPy or pandas to summarize a dataset’s descriptive statistics."
   ]
  },
  {
   "cell_type": "markdown",
   "id": "8d5b9e4f-b100-4662-8a4e-18d3ebce0628",
   "metadata": {},
   "source": [
    "#### ANS- "
   ]
  },
  {
   "cell_type": "code",
   "execution_count": 14,
   "id": "098fe5b2-e9cd-4752-bd2c-b646d0e126da",
   "metadata": {},
   "outputs": [
    {
     "name": "stdout",
     "output_type": "stream",
     "text": [
      "Descriptive Statistics with NumPy:\n",
      "Count: 100\n",
      "Mean: 60.33\n",
      "Standard Deviation: 14.31\n",
      "Min: 31.22\n",
      "25th Percentile (Q1): 47.92\n",
      "Median (Q2): 61.26\n",
      "75th Percentile (Q3): 68.07\n",
      "Max: 100.80\n"
     ]
    }
   ],
   "source": [
    "import numpy as np\n",
    "\n",
    "data = np.random.normal(loc=60, scale=15, size=100)\n",
    "\n",
    "# Descriptive statistics using NumPy\n",
    "count = len(data)\n",
    "mean = np.mean(data)\n",
    "std_dev = np.std(data, ddof=1)\n",
    "min_val = np.min(data)\n",
    "max_val = np.max(data)\n",
    "q25 = np.percentile(data, 25)\n",
    "median = np.median(data)\n",
    "q75 = np.percentile(data, 75)\n",
    "\n",
    "# Display\n",
    "print(\"Descriptive Statistics with NumPy:\")\n",
    "print(f\"Count: {count}\")\n",
    "print(f\"Mean: {mean:.2f}\")\n",
    "print(f\"Standard Deviation: {std_dev:.2f}\")\n",
    "print(f\"Min: {min_val:.2f}\")\n",
    "print(f\"25th Percentile (Q1): {q25:.2f}\")\n",
    "print(f\"Median (Q2): {median:.2f}\")\n",
    "print(f\"75th Percentile (Q3): {q75:.2f}\")\n",
    "print(f\"Max: {max_val:.2f}\")\n"
   ]
  },
  {
   "cell_type": "markdown",
   "id": "1f9372df-c357-4455-80e7-bc7334642c07",
   "metadata": {
    "jp-MarkdownHeadingCollapsed": true
   },
   "source": [
    "### Q16) Plot a boxplot to understand the spread and identify outliers."
   ]
  },
  {
   "cell_type": "markdown",
   "id": "629db690-bd21-43db-a8d4-2d5f6d29ba8b",
   "metadata": {},
   "source": [
    "#### ANS- "
   ]
  },
  {
   "cell_type": "code",
   "execution_count": 15,
   "id": "2d0a622d-a416-48ff-bcee-453c9036f626",
   "metadata": {},
   "outputs": [
    {
     "data": {
      "image/png": "[encoded data removed]",
      "text/plain": [
       "<Figure size 600x400 with 1 Axes>"
      ]
     },
     "metadata": {},
     "output_type": "display_data"
    }
   ],
   "source": [
    "import numpy as np\n",
    "import pandas as pd\n",
    "import matplotlib.pyplot as plt\n",
    "import seaborn as sns\n",
    "\n",
    "np.random.seed(42)\n",
    "data = np.random.normal(loc=60, scale=15, size=100)\n",
    "\n",
    "df = pd.DataFrame(data, columns=[\"Score\"])\n",
    "\n",
    "\n",
    "plt.figure(figsize=(6, 4))\n",
    "sns.boxplot(x='Score', data=df, color=\"skyblue\", width=0.4)\n",
    "plt.title(\"Boxplot of Scores\")\n",
    "plt.xlabel(\"Score\")\n",
    "plt.grid(True)\n",
    "plt.show()"
   ]
  },
  {
   "cell_type": "code",
   "execution_count": 16,
   "id": "dce90ab5-6781-492b-a6b0-c841806a97df",
   "metadata": {},
   "outputs": [
    {
     "name": "stdout",
     "output_type": "stream",
     "text": [
      "Outliers detected:\n",
      "        Score\n",
      "74  20.703823\n"
     ]
    }
   ],
   "source": [
    "# Detect outliers\n",
    "Q1 = df['Score'].quantile(0.25)\n",
    "Q3 = df['Score'].quantile(0.75)\n",
    "IQR = Q3 - Q1\n",
    "\n",
    "outliers = df[(df['Score'] < Q1 - 1.5 * IQR) | (df['Score'] > Q3 + 1.5 * IQR)]\n",
    "print(\"Outliers detected:\")\n",
    "print(outliers)\n"
   ]
  },
  {
   "cell_type": "markdown",
   "id": "59282081-0b74-43a0-a97c-67c98ad5d391",
   "metadata": {
    "jp-MarkdownHeadingCollapsed": true
   },
   "source": [
    "### Q17) Calculate the interquartile range (IQR) of a dataset."
   ]
  },
  {
   "cell_type": "markdown",
   "id": "477f7a0d-06d1-43b4-9871-401ca162d7f5",
   "metadata": {},
   "source": [
    "#### ANS- "
   ]
  },
  {
   "cell_type": "code",
   "execution_count": 17,
   "id": "4169da4b-33d0-4085-962c-49376455085d",
   "metadata": {},
   "outputs": [
    {
     "name": "stdout",
     "output_type": "stream",
     "text": [
      "Q1 (25th percentile): 14.25\n",
      "Q3 (75th percentile): 21.5\n",
      "IQR: 7.25\n"
     ]
    }
   ],
   "source": [
    "import numpy as np\n",
    "data = np.array([12, 15, 14, 10, 18, 22, 26, 24, 20, 17])\n",
    "\n",
    "q1 = np.percentile(data, 25)\n",
    "q3 = np.percentile(data, 75)\n",
    "\n",
    "iqr = q3 - q1\n",
    "\n",
    "print(f\"Q1 (25th percentile): {q1}\")\n",
    "print(f\"Q3 (75th percentile): {q3}\")\n",
    "print(f\"IQR: {iqr}\")\n"
   ]
  },
  {
   "cell_type": "markdown",
   "id": "72b0acec-95f6-4447-b5ad-52d81d331625",
   "metadata": {
    "jp-MarkdownHeadingCollapsed": true
   },
   "source": [
    "### Q18) Implement Z-score normalization and explain its significance."
   ]
  },
  {
   "cell_type": "markdown",
   "id": "97d84f6b-7be1-43b8-b7c2-277940532784",
   "metadata": {},
   "source": [
    "#### ANS- Significance of Z-Score Normalization\n",
    "Standardizes Different Scales:\n",
    "\n",
    "Useful when features in the data have different units or scales.\n",
    "\n",
    "Example: Age (years) and Salary (dollars).\n",
    "\n",
    "Improves Algorithm Performance:\n",
    "\n",
    "Many machine learning algorithms (e.g. KNN, SVM, Logistic Regression) assume features are centered and scaled.\n",
    "\n",
    "Without standardization, features with larger magnitudes can dominate the learning process.\n",
    "\n",
    "Detects Outliers:\n",
    "\n",
    "Z-scores far from 0 (e.g., >3 or <−3) often indicate outliers."
   ]
  },
  {
   "cell_type": "code",
   "execution_count": 16,
   "id": "f4b62c3b-4d53-4490-ac8f-c762825109a8",
   "metadata": {},
   "outputs": [
    {
     "name": "stdout",
     "output_type": "stream",
     "text": [
      "Z-score normalized data: [-1.41421356 -0.70710678  0.          0.70710678  1.41421356]\n"
     ]
    }
   ],
   "source": [
    "import numpy as np\n",
    "\n",
    "def z_score_normalization(data):\n",
    "    mean = np.mean(data)\n",
    "    std_dev = np.std(data)\n",
    "    z_scores = (data - mean) / std_dev\n",
    "    return z_scores\n",
    "\n",
    "data = np.array([10, 20, 30, 40, 50])\n",
    "normalized_data = z_score_normalization(data)\n",
    "print(\"Z-score normalized data:\", normalized_data)"
   ]
  },
  {
   "cell_type": "markdown",
   "id": "3aed4ed6-c7f0-4272-bd95-c5e78c9802df",
   "metadata": {
    "jp-MarkdownHeadingCollapsed": true
   },
   "source": [
    "### Q19) Compare two datasets using their standard deviations."
   ]
  },
  {
   "cell_type": "markdown",
   "id": "81df54e9-33f7-4fa0-8a7b-4bb1bbf41054",
   "metadata": {},
   "source": [
    "#### ANS- "
   ]
  },
  {
   "cell_type": "code",
   "execution_count": 18,
   "id": "5ea8a842-b9a8-4877-9b20-9ce054df6838",
   "metadata": {},
   "outputs": [
    {
     "name": "stdout",
     "output_type": "stream",
     "text": [
      "Dataset 1 - Mean: 49.48 | Standard Deviation: 4.54\n",
      "Dataset 2 - Mean: 50.33 | Standard Deviation: 14.31\n"
     ]
    }
   ],
   "source": [
    "import numpy as np\n",
    "\n",
    "# Simulate two datasets\n",
    "np.random.seed(42)\n",
    "data1 = np.random.normal(loc=50, scale=5, size=100)   # Mean 50, SD 5\n",
    "data2 = np.random.normal(loc=50, scale=15, size=100)  # Mean 50, SD 15\n",
    "\n",
    "# Calculate standard deviations\n",
    "std_dev1 = np.std(data1, ddof=1)\n",
    "std_dev2 = np.std(data2, ddof=1)\n",
    "\n",
    "# Means for reference\n",
    "mean1 = np.mean(data1)\n",
    "mean2 = np.mean(data2)\n",
    "\n",
    "print(\"Dataset 1 - Mean:\", round(mean1, 2), \"| Standard Deviation:\", round(std_dev1, 2))\n",
    "print(\"Dataset 2 - Mean:\", round(mean2, 2), \"| Standard Deviation:\", round(std_dev2, 2))\n"
   ]
  },
  {
   "cell_type": "code",
   "execution_count": null,
   "id": "9b58ef07-42cb-4ab9-b81f-6a196bd4fe8c",
   "metadata": {},
   "outputs": [],
   "source": [
    "#Both datasets have nearly the same mean.\n",
    "#Dataset 1 has a smaller standard deviation, so it's more consistent and less variable.\n",
    "#Dataset 2 has a larger standard deviation, indicating greater variability."
   ]
  },
  {
   "cell_type": "markdown",
   "id": "dc3d4c52-d4a3-498c-b4a1-d1e62ea84698",
   "metadata": {
    "jp-MarkdownHeadingCollapsed": true
   },
   "source": [
    "### Q20) Write a Python program to visualize covariance using a heatmap."
   ]
  },
  {
   "cell_type": "markdown",
   "id": "4f79221b-9b67-47bd-9558-27d2277b56ef",
   "metadata": {},
   "source": [
    "#### ANS-"
   ]
  },
  {
   "cell_type": "code",
   "execution_count": 3,
   "id": "2f06b67f-e5b7-4c6c-96dc-328a2fbbb857",
   "metadata": {},
   "outputs": [
    {
     "data": {
      "text/html": [
       "<div>\n",
       "<style scoped>\n",
       "    .dataframe tbody tr th:only-of-type {\n",
       "        vertical-align: middle;\n",
       "    }\n",
       "\n",
       "    .dataframe tbody tr th {\n",
       "        vertical-align: top;\n",
       "    }\n",
       "\n",
       "    .dataframe thead th {\n",
       "        text-align: right;\n",
       "    }\n",
       "</style>\n",
       "<table border=\"1\" class=\"dataframe\">\n",
       "  <thead>\n",
       "    <tr style=\"text-align: right;\">\n",
       "      <th></th>\n",
       "      <th>total_bill</th>\n",
       "      <th>tip</th>\n",
       "      <th>sex</th>\n",
       "      <th>smoker</th>\n",
       "      <th>day</th>\n",
       "      <th>time</th>\n",
       "      <th>size</th>\n",
       "    </tr>\n",
       "  </thead>\n",
       "  <tbody>\n",
       "    <tr>\n",
       "      <th>0</th>\n",
       "      <td>16.99</td>\n",
       "      <td>1.01</td>\n",
       "      <td>Female</td>\n",
       "      <td>No</td>\n",
       "      <td>Sun</td>\n",
       "      <td>Dinner</td>\n",
       "      <td>2</td>\n",
       "    </tr>\n",
       "    <tr>\n",
       "      <th>1</th>\n",
       "      <td>10.34</td>\n",
       "      <td>1.66</td>\n",
       "      <td>Male</td>\n",
       "      <td>No</td>\n",
       "      <td>Sun</td>\n",
       "      <td>Dinner</td>\n",
       "      <td>3</td>\n",
       "    </tr>\n",
       "    <tr>\n",
       "      <th>2</th>\n",
       "      <td>21.01</td>\n",
       "      <td>3.50</td>\n",
       "      <td>Male</td>\n",
       "      <td>No</td>\n",
       "      <td>Sun</td>\n",
       "      <td>Dinner</td>\n",
       "      <td>3</td>\n",
       "    </tr>\n",
       "    <tr>\n",
       "      <th>3</th>\n",
       "      <td>23.68</td>\n",
       "      <td>3.31</td>\n",
       "      <td>Male</td>\n",
       "      <td>No</td>\n",
       "      <td>Sun</td>\n",
       "      <td>Dinner</td>\n",
       "      <td>2</td>\n",
       "    </tr>\n",
       "    <tr>\n",
       "      <th>4</th>\n",
       "      <td>24.59</td>\n",
       "      <td>3.61</td>\n",
       "      <td>Female</td>\n",
       "      <td>No</td>\n",
       "      <td>Sun</td>\n",
       "      <td>Dinner</td>\n",
       "      <td>4</td>\n",
       "    </tr>\n",
       "    <tr>\n",
       "      <th>...</th>\n",
       "      <td>...</td>\n",
       "      <td>...</td>\n",
       "      <td>...</td>\n",
       "      <td>...</td>\n",
       "      <td>...</td>\n",
       "      <td>...</td>\n",
       "      <td>...</td>\n",
       "    </tr>\n",
       "    <tr>\n",
       "      <th>239</th>\n",
       "      <td>29.03</td>\n",
       "      <td>5.92</td>\n",
       "      <td>Male</td>\n",
       "      <td>No</td>\n",
       "      <td>Sat</td>\n",
       "      <td>Dinner</td>\n",
       "      <td>3</td>\n",
       "    </tr>\n",
       "    <tr>\n",
       "      <th>240</th>\n",
       "      <td>27.18</td>\n",
       "      <td>2.00</td>\n",
       "      <td>Female</td>\n",
       "      <td>Yes</td>\n",
       "      <td>Sat</td>\n",
       "      <td>Dinner</td>\n",
       "      <td>2</td>\n",
       "    </tr>\n",
       "    <tr>\n",
       "      <th>241</th>\n",
       "      <td>22.67</td>\n",
       "      <td>2.00</td>\n",
       "      <td>Male</td>\n",
       "      <td>Yes</td>\n",
       "      <td>Sat</td>\n",
       "      <td>Dinner</td>\n",
       "      <td>2</td>\n",
       "    </tr>\n",
       "    <tr>\n",
       "      <th>242</th>\n",
       "      <td>17.82</td>\n",
       "      <td>1.75</td>\n",
       "      <td>Male</td>\n",
       "      <td>No</td>\n",
       "      <td>Sat</td>\n",
       "      <td>Dinner</td>\n",
       "      <td>2</td>\n",
       "    </tr>\n",
       "    <tr>\n",
       "      <th>243</th>\n",
       "      <td>18.78</td>\n",
       "      <td>3.00</td>\n",
       "      <td>Female</td>\n",
       "      <td>No</td>\n",
       "      <td>Thur</td>\n",
       "      <td>Dinner</td>\n",
       "      <td>2</td>\n",
       "    </tr>\n",
       "  </tbody>\n",
       "</table>\n",
       "<p>244 rows × 7 columns</p>\n",
       "</div>"
      ],
      "text/plain": [
       "     total_bill   tip     sex smoker   day    time  size\n",
       "0         16.99  1.01  Female     No   Sun  Dinner     2\n",
       "1         10.34  1.66    Male     No   Sun  Dinner     3\n",
       "2         21.01  3.50    Male     No   Sun  Dinner     3\n",
       "3         23.68  3.31    Male     No   Sun  Dinner     2\n",
       "4         24.59  3.61  Female     No   Sun  Dinner     4\n",
       "..          ...   ...     ...    ...   ...     ...   ...\n",
       "239       29.03  5.92    Male     No   Sat  Dinner     3\n",
       "240       27.18  2.00  Female    Yes   Sat  Dinner     2\n",
       "241       22.67  2.00    Male    Yes   Sat  Dinner     2\n",
       "242       17.82  1.75    Male     No   Sat  Dinner     2\n",
       "243       18.78  3.00  Female     No  Thur  Dinner     2\n",
       "\n",
       "[244 rows x 7 columns]"
      ]
     },
     "execution_count": 3,
     "metadata": {},
     "output_type": "execute_result"
    }
   ],
   "source": [
    "import seaborn as sns\n",
    "df = sns.load_dataset('tips')\n",
    "df"
   ]
  },
  {
   "cell_type": "code",
   "execution_count": 4,
   "id": "59ced454-9ed8-4c25-9c97-21fd459859e2",
   "metadata": {},
   "outputs": [
    {
     "data": {
      "text/html": [
       "<div>\n",
       "<style scoped>\n",
       "    .dataframe tbody tr th:only-of-type {\n",
       "        vertical-align: middle;\n",
       "    }\n",
       "\n",
       "    .dataframe tbody tr th {\n",
       "        vertical-align: top;\n",
       "    }\n",
       "\n",
       "    .dataframe thead th {\n",
       "        text-align: right;\n",
       "    }\n",
       "</style>\n",
       "<table border=\"1\" class=\"dataframe\">\n",
       "  <thead>\n",
       "    <tr style=\"text-align: right;\">\n",
       "      <th></th>\n",
       "      <th>total_bill</th>\n",
       "      <th>tip</th>\n",
       "      <th>size</th>\n",
       "    </tr>\n",
       "  </thead>\n",
       "  <tbody>\n",
       "    <tr>\n",
       "      <th>total_bill</th>\n",
       "      <td>1.000000</td>\n",
       "      <td>0.675734</td>\n",
       "      <td>0.598315</td>\n",
       "    </tr>\n",
       "    <tr>\n",
       "      <th>tip</th>\n",
       "      <td>0.675734</td>\n",
       "      <td>1.000000</td>\n",
       "      <td>0.489299</td>\n",
       "    </tr>\n",
       "    <tr>\n",
       "      <th>size</th>\n",
       "      <td>0.598315</td>\n",
       "      <td>0.489299</td>\n",
       "      <td>1.000000</td>\n",
       "    </tr>\n",
       "  </tbody>\n",
       "</table>\n",
       "</div>"
      ],
      "text/plain": [
       "            total_bill       tip      size\n",
       "total_bill    1.000000  0.675734  0.598315\n",
       "tip           0.675734  1.000000  0.489299\n",
       "size          0.598315  0.489299  1.000000"
      ]
     },
     "execution_count": 4,
     "metadata": {},
     "output_type": "execute_result"
    }
   ],
   "source": [
    "corr = df.corr(numeric_only = True)\n",
    "corr"
   ]
  },
  {
   "cell_type": "code",
   "execution_count": 5,
   "id": "a0802a62-cb0a-4427-86cf-1494ed3f6782",
   "metadata": {},
   "outputs": [
    {
     "data": {
      "text/plain": [
       "<Axes: >"
      ]
     },
     "execution_count": 5,
     "metadata": {},
     "output_type": "execute_result"
    },
    {
     "data": {
      "image/png": "[encoded data removed]",
      "text/plain": [
       "<Figure size 640x480 with 2 Axes>"
      ]
     },
     "metadata": {},
     "output_type": "display_data"
    }
   ],
   "source": [
    "sns.heatmap(corr)"
   ]
  },
  {
   "cell_type": "code",
   "execution_count": 6,
   "id": "8b0157ce-e1fb-4108-9958-7ccaad69fe98",
   "metadata": {},
   "outputs": [
    {
     "data": {
      "text/plain": [
       "<Axes: >"
      ]
     },
     "execution_count": 6,
     "metadata": {},
     "output_type": "execute_result"
    },
    {
     "data": {
      "image/png": "[encoded data removed]",
      "text/plain": [
       "<Figure size 640x480 with 2 Axes>"
      ]
     },
     "metadata": {},
     "output_type": "display_data"
    }
   ],
   "source": [
    "sns.heatmap(corr,annot=True)"
   ]
  },
  {
   "cell_type": "markdown",
   "id": "1adba75d-5621-4de4-9fe4-fc3b9b0a11bb",
   "metadata": {
    "jp-MarkdownHeadingCollapsed": true
   },
   "source": [
    "### Q21) Use seaborn to create a correlation matrix for a dataset."
   ]
  },
  {
   "cell_type": "markdown",
   "id": "198f6882-4c51-4432-b21f-25095f96d7e5",
   "metadata": {},
   "source": [
    "#### ANS-"
   ]
  },
  {
   "cell_type": "code",
   "execution_count": 7,
   "id": "ac87495b-5df8-46f1-9a41-05748969ec5b",
   "metadata": {},
   "outputs": [
    {
     "data": {
      "text/html": [
       "<div>\n",
       "<style scoped>\n",
       "    .dataframe tbody tr th:only-of-type {\n",
       "        vertical-align: middle;\n",
       "    }\n",
       "\n",
       "    .dataframe tbody tr th {\n",
       "        vertical-align: top;\n",
       "    }\n",
       "\n",
       "    .dataframe thead th {\n",
       "        text-align: right;\n",
       "    }\n",
       "</style>\n",
       "<table border=\"1\" class=\"dataframe\">\n",
       "  <thead>\n",
       "    <tr style=\"text-align: right;\">\n",
       "      <th></th>\n",
       "      <th>sepal_length</th>\n",
       "      <th>sepal_width</th>\n",
       "      <th>petal_length</th>\n",
       "      <th>petal_width</th>\n",
       "      <th>species</th>\n",
       "    </tr>\n",
       "  </thead>\n",
       "  <tbody>\n",
       "    <tr>\n",
       "      <th>0</th>\n",
       "      <td>5.1</td>\n",
       "      <td>3.5</td>\n",
       "      <td>1.4</td>\n",
       "      <td>0.2</td>\n",
       "      <td>setosa</td>\n",
       "    </tr>\n",
       "    <tr>\n",
       "      <th>1</th>\n",
       "      <td>4.9</td>\n",
       "      <td>3.0</td>\n",
       "      <td>1.4</td>\n",
       "      <td>0.2</td>\n",
       "      <td>setosa</td>\n",
       "    </tr>\n",
       "    <tr>\n",
       "      <th>2</th>\n",
       "      <td>4.7</td>\n",
       "      <td>3.2</td>\n",
       "      <td>1.3</td>\n",
       "      <td>0.2</td>\n",
       "      <td>setosa</td>\n",
       "    </tr>\n",
       "    <tr>\n",
       "      <th>3</th>\n",
       "      <td>4.6</td>\n",
       "      <td>3.1</td>\n",
       "      <td>1.5</td>\n",
       "      <td>0.2</td>\n",
       "      <td>setosa</td>\n",
       "    </tr>\n",
       "    <tr>\n",
       "      <th>4</th>\n",
       "      <td>5.0</td>\n",
       "      <td>3.6</td>\n",
       "      <td>1.4</td>\n",
       "      <td>0.2</td>\n",
       "      <td>setosa</td>\n",
       "    </tr>\n",
       "    <tr>\n",
       "      <th>...</th>\n",
       "      <td>...</td>\n",
       "      <td>...</td>\n",
       "      <td>...</td>\n",
       "      <td>...</td>\n",
       "      <td>...</td>\n",
       "    </tr>\n",
       "    <tr>\n",
       "      <th>145</th>\n",
       "      <td>6.7</td>\n",
       "      <td>3.0</td>\n",
       "      <td>5.2</td>\n",
       "      <td>2.3</td>\n",
       "      <td>virginica</td>\n",
       "    </tr>\n",
       "    <tr>\n",
       "      <th>146</th>\n",
       "      <td>6.3</td>\n",
       "      <td>2.5</td>\n",
       "      <td>5.0</td>\n",
       "      <td>1.9</td>\n",
       "      <td>virginica</td>\n",
       "    </tr>\n",
       "    <tr>\n",
       "      <th>147</th>\n",
       "      <td>6.5</td>\n",
       "      <td>3.0</td>\n",
       "      <td>5.2</td>\n",
       "      <td>2.0</td>\n",
       "      <td>virginica</td>\n",
       "    </tr>\n",
       "    <tr>\n",
       "      <th>148</th>\n",
       "      <td>6.2</td>\n",
       "      <td>3.4</td>\n",
       "      <td>5.4</td>\n",
       "      <td>2.3</td>\n",
       "      <td>virginica</td>\n",
       "    </tr>\n",
       "    <tr>\n",
       "      <th>149</th>\n",
       "      <td>5.9</td>\n",
       "      <td>3.0</td>\n",
       "      <td>5.1</td>\n",
       "      <td>1.8</td>\n",
       "      <td>virginica</td>\n",
       "    </tr>\n",
       "  </tbody>\n",
       "</table>\n",
       "<p>150 rows × 5 columns</p>\n",
       "</div>"
      ],
      "text/plain": [
       "     sepal_length  sepal_width  petal_length  petal_width    species\n",
       "0             5.1          3.5           1.4          0.2     setosa\n",
       "1             4.9          3.0           1.4          0.2     setosa\n",
       "2             4.7          3.2           1.3          0.2     setosa\n",
       "3             4.6          3.1           1.5          0.2     setosa\n",
       "4             5.0          3.6           1.4          0.2     setosa\n",
       "..            ...          ...           ...          ...        ...\n",
       "145           6.7          3.0           5.2          2.3  virginica\n",
       "146           6.3          2.5           5.0          1.9  virginica\n",
       "147           6.5          3.0           5.2          2.0  virginica\n",
       "148           6.2          3.4           5.4          2.3  virginica\n",
       "149           5.9          3.0           5.1          1.8  virginica\n",
       "\n",
       "[150 rows x 5 columns]"
      ]
     },
     "execution_count": 7,
     "metadata": {},
     "output_type": "execute_result"
    }
   ],
   "source": [
    "import pandas as pd\n",
    "import seaborn as sns\n",
    "import matplotlib.pyplot as plt\n",
    "\n",
    "df = sns.load_dataset(\"iris\")\n",
    "df"
   ]
  },
  {
   "cell_type": "code",
   "execution_count": 10,
   "id": "c8226ecf-9804-4033-9efb-783925843f06",
   "metadata": {},
   "outputs": [
    {
     "data": {
      "text/html": [
       "<div>\n",
       "<style scoped>\n",
       "    .dataframe tbody tr th:only-of-type {\n",
       "        vertical-align: middle;\n",
       "    }\n",
       "\n",
       "    .dataframe tbody tr th {\n",
       "        vertical-align: top;\n",
       "    }\n",
       "\n",
       "    .dataframe thead th {\n",
       "        text-align: right;\n",
       "    }\n",
       "</style>\n",
       "<table border=\"1\" class=\"dataframe\">\n",
       "  <thead>\n",
       "    <tr style=\"text-align: right;\">\n",
       "      <th></th>\n",
       "      <th>sepal_length</th>\n",
       "      <th>sepal_width</th>\n",
       "      <th>petal_length</th>\n",
       "      <th>petal_width</th>\n",
       "    </tr>\n",
       "  </thead>\n",
       "  <tbody>\n",
       "    <tr>\n",
       "      <th>sepal_length</th>\n",
       "      <td>1.000000</td>\n",
       "      <td>-0.117570</td>\n",
       "      <td>0.871754</td>\n",
       "      <td>0.817941</td>\n",
       "    </tr>\n",
       "    <tr>\n",
       "      <th>sepal_width</th>\n",
       "      <td>-0.117570</td>\n",
       "      <td>1.000000</td>\n",
       "      <td>-0.428440</td>\n",
       "      <td>-0.366126</td>\n",
       "    </tr>\n",
       "    <tr>\n",
       "      <th>petal_length</th>\n",
       "      <td>0.871754</td>\n",
       "      <td>-0.428440</td>\n",
       "      <td>1.000000</td>\n",
       "      <td>0.962865</td>\n",
       "    </tr>\n",
       "    <tr>\n",
       "      <th>petal_width</th>\n",
       "      <td>0.817941</td>\n",
       "      <td>-0.366126</td>\n",
       "      <td>0.962865</td>\n",
       "      <td>1.000000</td>\n",
       "    </tr>\n",
       "  </tbody>\n",
       "</table>\n",
       "</div>"
      ],
      "text/plain": [
       "              sepal_length  sepal_width  petal_length  petal_width\n",
       "sepal_length      1.000000    -0.117570      0.871754     0.817941\n",
       "sepal_width      -0.117570     1.000000     -0.428440    -0.366126\n",
       "petal_length      0.871754    -0.428440      1.000000     0.962865\n",
       "petal_width       0.817941    -0.366126      0.962865     1.000000"
      ]
     },
     "execution_count": 10,
     "metadata": {},
     "output_type": "execute_result"
    }
   ],
   "source": [
    "corr = df.corr(numeric_only=True)\n",
    "corr"
   ]
  },
  {
   "cell_type": "code",
   "execution_count": 11,
   "id": "8aec99be-d495-45ae-a7ba-85f8f9a64994",
   "metadata": {},
   "outputs": [
    {
     "data": {
      "image/png": "[encoded data removed]",
      "text/plain": [
       "<Figure size 800x600 with 2 Axes>"
      ]
     },
     "metadata": {},
     "output_type": "display_data"
    }
   ],
   "source": [
    "plt.figure(figsize=(8, 6))\n",
    "sns.heatmap(corr, annot=True, cmap='coolwarm', linewidths=0.5)\n",
    "plt.title(\"Correlation Matrix\")\n",
    "plt.show()"
   ]
  },
  {
   "cell_type": "markdown",
   "id": "75ba7840-e339-4e80-88ed-2d23c9afc4c2",
   "metadata": {
    "jp-MarkdownHeadingCollapsed": true
   },
   "source": [
    "### Q22) Generate a dataset and implement both variance and standard deviation computations."
   ]
  },
  {
   "cell_type": "markdown",
   "id": "534d4e67-8fa9-408d-a006-9ac00a25efc2",
   "metadata": {},
   "source": [
    "#### ANS- "
   ]
  },
  {
   "cell_type": "code",
   "execution_count": 19,
   "id": "33866407-ba7c-461f-ab29-6e4207df06ee",
   "metadata": {},
   "outputs": [
    {
     "name": "stdout",
     "output_type": "stream",
     "text": [
      "Dataset: [88 78 64 92 57 70 88 68 72 60 60 73]\n",
      "\n",
      "Using NumPy:\n",
      "Variance: 140.27\n",
      "Standard Deviation: 11.84\n",
      "\n",
      "Manual Calculation:\n",
      "Mean: 72.50\n",
      "Variance: 140.27\n",
      "Standard Deviation: 11.84\n"
     ]
    }
   ],
   "source": [
    "import numpy as np\n",
    "\n",
    "np.random.seed(42) \n",
    "data = np.random.randint(50, 101, size=12)\n",
    "\n",
    "print(\"Dataset:\", data)\n",
    "\n",
    "# Sample Variance and Standard Deviation (use ddof=1 for sample)\n",
    "variance_np = np.var(data, ddof=1)\n",
    "std_dev_np = np.std(data, ddof=1)\n",
    "\n",
    "print(f\"\\nUsing NumPy:\")\n",
    "print(f\"Variance: {variance_np:.2f}\")\n",
    "print(f\"Standard Deviation: {std_dev_np:.2f}\")\n",
    "\n",
    "\n",
    "# Manual computation\n",
    "mean = np.mean(data)\n",
    "squared_diffs = [(x - mean) ** 2 for x in data]\n",
    "variance_manual = sum(squared_diffs) / (len(data) - 1)\n",
    "std_dev_manual = variance_manual ** 0.5\n",
    "\n",
    "print(f\"\\nManual Calculation:\")\n",
    "print(f\"Mean: {mean:.2f}\")\n",
    "print(f\"Variance: {variance_manual:.2f}\")\n",
    "print(f\"Standard Deviation: {std_dev_manual:.2f}\")"
   ]
  },
  {
   "cell_type": "markdown",
   "id": "d7625a08-ad33-41a2-9ce4-eba63dd6b9c4",
   "metadata": {
    "jp-MarkdownHeadingCollapsed": true
   },
   "source": [
    "### Q23) Visualize skewness and kurtosis using Python libraries like matplotlib or seaborn."
   ]
  },
  {
   "cell_type": "markdown",
   "id": "98d0b3d7-9e34-4c99-9743-ba2a518e81f5",
   "metadata": {},
   "source": [
    "#### ANS-"
   ]
  },
  {
   "cell_type": "code",
   "execution_count": 17,
   "id": "8ffea0f9-1971-4bf4-8964-e6d0cd35eb84",
   "metadata": {},
   "outputs": [
    {
     "data": {
      "image/png": "[encoded data removed]",
      "text/plain": [
       "<Figure size 800x500 with 1 Axes>"
      ]
     },
     "metadata": {},
     "output_type": "display_data"
    },
    {
     "data": {
      "image/png": "[encoded data removed]",
      "text/plain": [
       "<Figure size 800x500 with 1 Axes>"
      ]
     },
     "metadata": {},
     "output_type": "display_data"
    },
    {
     "data": {
      "image/png": "[encoded data removed]",
      "text/plain": [
       "<Figure size 800x500 with 1 Axes>"
      ]
     },
     "metadata": {},
     "output_type": "display_data"
    }
   ],
   "source": [
    "import numpy as np\n",
    "import seaborn as sns\n",
    "import matplotlib.pyplot as plt\n",
    "from scipy.stats import skew, kurtosis\n",
    "np.random.seed(42)\n",
    "normal_data = np.random.normal(loc=0, scale=1, size=1000)\n",
    "skewed_data = np.random.exponential(scale=2, size=1000)\n",
    "heavy_tail_data = np.random.laplace(loc=0, scale=1, size=1000)\n",
    "def plot_distribution(data, title):\n",
    "    plt.figure(figsize=(8, 5))\n",
    "    sns.histplot(data, kde=True, bins=30, color='skyblue')\n",
    "    plt.title(f'{title}\\nSkewness: {skew(data):.2f}, Kurtosis: {kurtosis(data):.2f}')\n",
    "    plt.xlabel('Value')\n",
    "    plt.ylabel('Frequency')\n",
    "    plt.grid(True)\n",
    "    plt.show()\n",
    "plot_distribution(normal_data, 'Normal Distribution')\n",
    "plot_distribution(skewed_data, 'Positively Skewed Distribution')\n",
    "plot_distribution(heavy_tail_data, 'High Kurtosis Distribution (Laplace)')\n"
   ]
  },
  {
   "cell_type": "markdown",
   "id": "7ededac1-f2d9-482d-be3e-cf7255dd87a2",
   "metadata": {
    "jp-MarkdownHeadingCollapsed": true
   },
   "source": [
    "### Q24) Implement the Pearson and Spearman correlation coefficients for a dataset."
   ]
  },
  {
   "cell_type": "markdown",
   "id": "4daf65d4-8bda-4b17-8753-b4bc783912d6",
   "metadata": {},
   "source": [
    "#### ANS-"
   ]
  },
  {
   "cell_type": "code",
   "execution_count": 12,
   "id": "38d6096d-177b-47b4-b4a9-6134fd18cffb",
   "metadata": {},
   "outputs": [
    {
     "name": "stdout",
     "output_type": "stream",
     "text": [
      "Pearson Correlation Matrix:\n",
      "               sepal_length  sepal_width  petal_length  petal_width\n",
      "sepal_length      1.000000    -0.117570      0.871754     0.817941\n",
      "sepal_width      -0.117570     1.000000     -0.428440    -0.366126\n",
      "petal_length      0.871754    -0.428440      1.000000     0.962865\n",
      "petal_width       0.817941    -0.366126      0.962865     1.000000\n",
      "\n",
      "Spearman Correlation Matrix:\n",
      "               sepal_length  sepal_width  petal_length  petal_width\n",
      "sepal_length      1.000000    -0.166778      0.881898     0.834289\n",
      "sepal_width      -0.166778     1.000000     -0.309635    -0.289032\n",
      "petal_length      0.881898    -0.309635      1.000000     0.937667\n",
      "petal_width       0.834289    -0.289032      0.937667     1.000000\n",
      "Pearson Correlation: 0.872, p-value: 1.039e-47\n",
      "Spearman Correlation: 0.882, p-value: 3.443e-50\n"
     ]
    }
   ],
   "source": [
    "import pandas as pd\n",
    "from scipy.stats import pearsonr, spearmanr\n",
    "import seaborn as sns\n",
    "df = sns.load_dataset(\"iris\")\n",
    "numeric_df = df.select_dtypes(include='number')\n",
    "\n",
    "\n",
    "# Pearson correlation matrix\n",
    "pearson_corr = numeric_df.corr(method='pearson')\n",
    "\n",
    "# Spearman correlation matrix\n",
    "spearman_corr = numeric_df.corr(method='spearman')\n",
    "\n",
    "print(\"Pearson Correlation Matrix:\\n\", pearson_corr)\n",
    "print(\"\\nSpearman Correlation Matrix:\\n\", spearman_corr)\n",
    "\n",
    "x = numeric_df['sepal_length']\n",
    "y = numeric_df['petal_length']\n",
    "\n",
    "# Pearson\n",
    "pearson_coef, pearson_p = pearsonr(x, y)\n",
    "print(f\"Pearson Correlation: {pearson_coef:.3f}, p-value: {pearson_p:.3e}\")\n",
    "\n",
    "# Spearman\n",
    "spearman_coef, spearman_p = spearmanr(x, y)\n",
    "print(f\"Spearman Correlation: {spearman_coef:.3f}, p-value: {spearman_p:.3e}\")"
   ]
  },
  {
   "cell_type": "code",
   "execution_count": null,
   "id": "9c307857-2b53-46d2-abd2-9f08d1c356f0",
   "metadata": {},
   "outputs": [],
   "source": []
  }
 ],
 "metadata": {
  "kernelspec": {
   "display_name": "Python 3 (ipykernel)",
   "language": "python",
   "name": "python3"
  },
  "language_info": {
   "codemirror_mode": {
    "name": "ipython",
    "version": 3
   },
   "file_extension": ".py",
   "mimetype": "text/x-python",
   "name": "python",
   "nbconvert_exporter": "python",
   "pygments_lexer": "ipython3",
   "version": "3.13.3"
  }
 },
 "nbformat": 4,
 "nbformat_minor": 5
}
