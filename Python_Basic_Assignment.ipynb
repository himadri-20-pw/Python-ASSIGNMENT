{
  "cells": [
    {
      "cell_type": "markdown",
      "id": "3a794077-6eb1-47b5-b880-69307d5905f7",
      "metadata": {
        "jp-MarkdownHeadingCollapsed": true,
        "id": "3a794077-6eb1-47b5-b880-69307d5905f7"
      },
      "source": [
        "# Q1)Explain the key features of python that makes it a popular choice for programming.\n",
        "ANS-The key features of python that makes it a popular choice for programming are:\n",
        "\n",
        "* Easy to learn,read and to use\n",
        "* Free and open source\n",
        "* A lot of libraries\n",
        "* Lot of databases\n",
        "* Huge active community\n",
        "* Scalability and Versatility\n",
        "\n",
        "\n",
        "\n",
        "\n",
        "\n",
        "\n"
      ]
    },
    {
      "cell_type": "markdown",
      "id": "1bf49824-648c-48cd-963f-88aea95400ae",
      "metadata": {
        "jp-MarkdownHeadingCollapsed": true,
        "id": "1bf49824-648c-48cd-963f-88aea95400ae"
      },
      "source": [
        "# Q2)Describe the role of predefined keywords in Python and provide examples if how they are used in a programm.\n",
        "ANS-The role of predefined keywords in Python is to perform some kind of specific tasks like defining the structure,making the code logical etc.\n",
        "They are also a part of the syntax of the programme.Example:-"
      ]
    },
    {
      "cell_type": "code",
      "execution_count": null,
      "id": "1c4a9886-6777-4870-9267-57811096a131",
      "metadata": {
        "id": "1c4a9886-6777-4870-9267-57811096a131",
        "outputId": "2fa8c629-4ee5-4a12-e337-2c69ae929634"
      },
      "outputs": [
        {
          "name": "stdin",
          "output_type": "stream",
          "text": [
            "please enter ur name: HIMADRI\n"
          ]
        }
      ],
      "source": [
        "name = input(\"please enter ur name:\")    #here input is a predefined keyword"
      ]
    },
    {
      "cell_type": "code",
      "execution_count": null,
      "id": "c5df5f9a-7dd3-4c9a-801f-b3f2a45ae28b",
      "metadata": {
        "id": "c5df5f9a-7dd3-4c9a-801f-b3f2a45ae28b",
        "outputId": "f97ff26e-a0fc-4c23-fd5d-ae273f949d74"
      },
      "outputs": [
        {
          "name": "stdout",
          "output_type": "stream",
          "text": [
            "1\n",
            "2\n",
            "skills\n"
          ]
        }
      ],
      "source": [
        "l=[1,2,\"skills\"]               #here for is a predefined keyword\n",
        "for i in l:\n",
        "    print(i)"
      ]
    },
    {
      "cell_type": "code",
      "execution_count": null,
      "id": "f187b3c5-c080-4baa-a001-ad9aa74ccf52",
      "metadata": {
        "id": "f187b3c5-c080-4baa-a001-ad9aa74ccf52",
        "outputId": "72014660-0d80-482b-c815-76fa72839f1b"
      },
      "outputs": [
        {
          "data": {
            "text/plain": [
              "False"
            ]
          },
          "execution_count": 8,
          "metadata": {},
          "output_type": "execute_result"
        }
      ],
      "source": [
        "not True                #True for is a predefined keyword"
      ]
    },
    {
      "cell_type": "markdown",
      "id": "1f86fd2d-9cd9-465b-84f7-1fb7ed39211e",
      "metadata": {
        "jp-MarkdownHeadingCollapsed": true,
        "id": "1f86fd2d-9cd9-465b-84f7-1fb7ed39211e"
      },
      "source": [
        "# Q3)Compare and constract mutable and immutable objects in Python with examples.\n",
        "ANS-The values that can be changed after they are created are called as mutable objects.Example:-"
      ]
    },
    {
      "cell_type": "code",
      "execution_count": null,
      "id": "68fb2974-683f-48f2-b71b-e57422741997",
      "metadata": {
        "id": "68fb2974-683f-48f2-b71b-e57422741997",
        "outputId": "3b7f2bd4-10f0-4ee5-8a75-74d932feba2d"
      },
      "outputs": [
        {
          "data": {
            "text/plain": [
              "[4, 29, 300, 'Dog', True, 8.3, (2+3j)]"
            ]
          },
          "execution_count": 20,
          "metadata": {},
          "output_type": "execute_result"
        }
      ],
      "source": [
        "l_cont = [4,29,300,\"Dog\",True,8.3,2+3J]\n",
        "l_cont                                     #orginal content"
      ]
    },
    {
      "cell_type": "code",
      "execution_count": null,
      "id": "55069545-a47f-4956-b129-244ba636b452",
      "metadata": {
        "id": "55069545-a47f-4956-b129-244ba636b452",
        "outputId": "10585650-dc1c-4dca-c7c8-75148f0b06a8"
      },
      "outputs": [
        {
          "data": {
            "text/plain": [
              "[4, 29, 300, 'flower', True, 8.3, (2+3j)]"
            ]
          },
          "execution_count": 22,
          "metadata": {},
          "output_type": "execute_result"
        }
      ],
      "source": [
        "l_cont[3]=\"flower\"\n",
        "l_cont"
      ]
    },
    {
      "cell_type": "code",
      "execution_count": null,
      "id": "fb7664c9-0413-4072-bb49-db1bc3e88a85",
      "metadata": {
        "id": "fb7664c9-0413-4072-bb49-db1bc3e88a85",
        "outputId": "ae801cb0-9aec-4fda-8756-9a44334ff172"
      },
      "outputs": [
        {
          "data": {
            "text/plain": [
              "150"
            ]
          },
          "execution_count": 23,
          "metadata": {},
          "output_type": "execute_result"
        }
      ],
      "source": [
        "l_cont[0]=150\n",
        "l_cont[0]"
      ]
    },
    {
      "cell_type": "code",
      "execution_count": null,
      "id": "c33ef7f3-ffd2-4ed2-ad5f-3cfc4d3cc282",
      "metadata": {
        "id": "c33ef7f3-ffd2-4ed2-ad5f-3cfc4d3cc282",
        "outputId": "169b39ac-ab01-402e-e65b-5d983d770d82"
      },
      "outputs": [
        {
          "data": {
            "text/plain": [
              "[150, 29, 300, 'flower', True, 8.3, (2+3j)]"
            ]
          },
          "execution_count": 24,
          "metadata": {},
          "output_type": "execute_result"
        }
      ],
      "source": [
        "l_cont                                   #updated content"
      ]
    },
    {
      "cell_type": "code",
      "execution_count": null,
      "id": "6a7f3121-b4ce-4120-a3e2-56bdc514ec45",
      "metadata": {
        "id": "6a7f3121-b4ce-4120-a3e2-56bdc514ec45"
      },
      "outputs": [],
      "source": [
        "###lIST,DICTIONARY are example of mutable objects."
      ]
    },
    {
      "cell_type": "raw",
      "id": "c2026136-e101-4f1f-aeca-cdbe33260648",
      "metadata": {
        "id": "c2026136-e101-4f1f-aeca-cdbe33260648"
      },
      "source": [
        "The values that cannot be changed after they are created are called as immutable objects.Example:-"
      ]
    },
    {
      "cell_type": "code",
      "execution_count": null,
      "id": "166d709f-3478-477f-905b-0a8e9a04a7a2",
      "metadata": {
        "id": "166d709f-3478-477f-905b-0a8e9a04a7a2",
        "outputId": "3943764a-ce4c-487f-bc83-5a9cee4ad861"
      },
      "outputs": [
        {
          "data": {
            "text/plain": [
              "'flowers'"
            ]
          },
          "execution_count": 25,
          "metadata": {},
          "output_type": "execute_result"
        }
      ],
      "source": [
        "word = \"flowers\"\n",
        "word"
      ]
    },
    {
      "cell_type": "code",
      "execution_count": null,
      "id": "a4bce29e-bc5b-431b-b28d-183809216db8",
      "metadata": {
        "id": "a4bce29e-bc5b-431b-b28d-183809216db8",
        "outputId": "49dd38fa-f722-4332-fe3b-131fa610add9"
      },
      "outputs": [
        {
          "ename": "TypeError",
          "evalue": "'str' object does not support item assignment",
          "output_type": "error",
          "traceback": [
            "\u001b[31m---------------------------------------------------------------------------\u001b[39m",
            "\u001b[31mTypeError\u001b[39m                                 Traceback (most recent call last)",
            "\u001b[36mCell\u001b[39m\u001b[36m \u001b[39m\u001b[32mIn[27]\u001b[39m\u001b[32m, line 1\u001b[39m\n\u001b[32m----> \u001b[39m\u001b[32m1\u001b[39m \u001b[43mword\u001b[49m\u001b[43m[\u001b[49m\u001b[32;43m5\u001b[39;49m\u001b[43m]\u001b[49m=\u001b[33m\"\u001b[39m\u001b[33mp\u001b[39m\u001b[33m\"\u001b[39m                         \u001b[38;5;66;03m#in string we cannot change the characters after once being written\u001b[39;00m\n",
            "\u001b[31mTypeError\u001b[39m: 'str' object does not support item assignment"
          ]
        }
      ],
      "source": [
        "word[5]=\"p\"                         #in string we cannot change the characters after once being written"
      ]
    },
    {
      "cell_type": "code",
      "execution_count": null,
      "id": "1a2067d3-3be9-49ed-b26e-b0abbf71e4db",
      "metadata": {
        "id": "1a2067d3-3be9-49ed-b26e-b0abbf71e4db"
      },
      "outputs": [],
      "source": [
        "###STRING,TUPLES are example of immutable objects."
      ]
    },
    {
      "cell_type": "markdown",
      "id": "55576b7a-c89c-4382-8caa-2edbc3fdd631",
      "metadata": {
        "jp-MarkdownHeadingCollapsed": true,
        "id": "55576b7a-c89c-4382-8caa-2edbc3fdd631"
      },
      "source": [
        "# Q4)Discuss the different types of operators in Python and provide examples of how they are used\n",
        "ANS-Different types of operators in Python are:\n",
        "*  Arithmatics operators\n",
        "*  Comparison operators\n",
        "*  Logical operators\n",
        "*  Bitwise operators\n",
        "* Assignment operators\n",
        "* Membership operators\n",
        "* Identify operators\n",
        "\n"
      ]
    },
    {
      "cell_type": "markdown",
      "id": "92a84a8b-d878-4330-8a39-33f5ae523d9e",
      "metadata": {
        "jp-MarkdownHeadingCollapsed": true,
        "id": "92a84a8b-d878-4330-8a39-33f5ae523d9e"
      },
      "source": [
        "### arithmatic operators"
      ]
    },
    {
      "cell_type": "code",
      "execution_count": null,
      "id": "09a5c6a0-8f16-4b15-8b91-37a45d29b0d3",
      "metadata": {
        "id": "09a5c6a0-8f16-4b15-8b91-37a45d29b0d3",
        "outputId": "4d350545-d0a3-4ba2-abec-c8a886baef8d"
      },
      "outputs": [
        {
          "data": {
            "text/plain": [
              "84"
            ]
          },
          "execution_count": 127,
          "metadata": {},
          "output_type": "execute_result"
        }
      ],
      "source": [
        "a=45\n",
        "b=39\n",
        "a+b      #addition"
      ]
    },
    {
      "cell_type": "code",
      "execution_count": null,
      "id": "a73d7e31-0a14-46e7-a467-b4149d4f326b",
      "metadata": {
        "id": "a73d7e31-0a14-46e7-a467-b4149d4f326b",
        "outputId": "cb27611d-d243-4665-f00a-99d7a1b19663"
      },
      "outputs": [
        {
          "data": {
            "text/plain": [
              "6"
            ]
          },
          "execution_count": 51,
          "metadata": {},
          "output_type": "execute_result"
        }
      ],
      "source": [
        "a-b       #substraction"
      ]
    },
    {
      "cell_type": "code",
      "execution_count": null,
      "id": "c38d9552-634d-4159-9a7c-5b1831afafb2",
      "metadata": {
        "id": "c38d9552-634d-4159-9a7c-5b1831afafb2",
        "outputId": "85f510a5-af04-4f64-a3f9-d4aefafdc121"
      },
      "outputs": [
        {
          "data": {
            "text/plain": [
              "1755"
            ]
          },
          "execution_count": 52,
          "metadata": {},
          "output_type": "execute_result"
        }
      ],
      "source": [
        "a*b       #multiplication"
      ]
    },
    {
      "cell_type": "code",
      "execution_count": null,
      "id": "ef4b5824-6e01-46bb-81e4-f55964ab8623",
      "metadata": {
        "id": "ef4b5824-6e01-46bb-81e4-f55964ab8623",
        "outputId": "e0e82920-b6ed-4ebb-b9a3-def8e202d524"
      },
      "outputs": [
        {
          "data": {
            "text/plain": [
              "1.1538461538461537"
            ]
          },
          "execution_count": 53,
          "metadata": {},
          "output_type": "execute_result"
        }
      ],
      "source": [
        "a/b       #division"
      ]
    },
    {
      "cell_type": "code",
      "execution_count": null,
      "id": "38599314-0877-4002-8319-1746592206dc",
      "metadata": {
        "id": "38599314-0877-4002-8319-1746592206dc",
        "outputId": "34143435-ca10-4d2e-b9f8-1a6d3a8bf0ed"
      },
      "outputs": [
        {
          "data": {
            "text/plain": [
              "6"
            ]
          },
          "execution_count": 54,
          "metadata": {},
          "output_type": "execute_result"
        }
      ],
      "source": [
        "a%b         #modulus"
      ]
    },
    {
      "cell_type": "markdown",
      "id": "307ef276-4ae1-433f-9054-2b02cc64d36d",
      "metadata": {
        "jp-MarkdownHeadingCollapsed": true,
        "id": "307ef276-4ae1-433f-9054-2b02cc64d36d"
      },
      "source": [
        "### comparison operators"
      ]
    },
    {
      "cell_type": "code",
      "execution_count": null,
      "id": "7ed95c2b-402f-479b-bfe2-285192430461",
      "metadata": {
        "id": "7ed95c2b-402f-479b-bfe2-285192430461",
        "outputId": "9d2e62d7-aed5-4b91-b05e-195510bac4a8"
      },
      "outputs": [
        {
          "data": {
            "text/plain": [
              "1444"
            ]
          },
          "execution_count": 55,
          "metadata": {},
          "output_type": "execute_result"
        }
      ],
      "source": [
        "a=38\n",
        "b=2\n",
        "a**2         #exponention"
      ]
    },
    {
      "cell_type": "code",
      "execution_count": null,
      "id": "99149dc4-fd7f-4f35-96c1-51927e29b609",
      "metadata": {
        "id": "99149dc4-fd7f-4f35-96c1-51927e29b609",
        "outputId": "f7162d53-8936-400c-e69f-305a4fcbe339"
      },
      "outputs": [
        {
          "data": {
            "text/plain": [
              "True"
            ]
          },
          "execution_count": 129,
          "metadata": {},
          "output_type": "execute_result"
        }
      ],
      "source": [
        "6==6                 #equal to"
      ]
    },
    {
      "cell_type": "code",
      "execution_count": null,
      "id": "f2bcdf6a-9f26-4422-bcfb-df1316c804c0",
      "metadata": {
        "id": "f2bcdf6a-9f26-4422-bcfb-df1316c804c0",
        "outputId": "ccb32dda-7754-480a-a795-b8751e11e9c0"
      },
      "outputs": [
        {
          "data": {
            "text/plain": [
              "True"
            ]
          },
          "execution_count": 45,
          "metadata": {},
          "output_type": "execute_result"
        }
      ],
      "source": [
        "4!=6                #NOT equal to"
      ]
    },
    {
      "cell_type": "code",
      "execution_count": null,
      "id": "d63d6196-44ce-4c29-9773-fcc18fd938aa",
      "metadata": {
        "id": "d63d6196-44ce-4c29-9773-fcc18fd938aa",
        "outputId": "70548123-d8de-4045-bed9-527210f0b726"
      },
      "outputs": [
        {
          "data": {
            "text/plain": [
              "True"
            ]
          },
          "execution_count": 46,
          "metadata": {},
          "output_type": "execute_result"
        }
      ],
      "source": [
        "55>38              #greater than"
      ]
    },
    {
      "cell_type": "code",
      "execution_count": null,
      "id": "969d186a-ab50-42aa-818c-1d72f9286b1b",
      "metadata": {
        "id": "969d186a-ab50-42aa-818c-1d72f9286b1b",
        "outputId": "68427b33-75c3-44ed-9b08-cec3851ececc"
      },
      "outputs": [
        {
          "data": {
            "text/plain": [
              "True"
            ]
          },
          "execution_count": 47,
          "metadata": {},
          "output_type": "execute_result"
        }
      ],
      "source": [
        "9<77              #less than"
      ]
    },
    {
      "cell_type": "code",
      "execution_count": null,
      "id": "e9fb99ea-94b9-44c6-8d42-9ca989e3eb73",
      "metadata": {
        "id": "e9fb99ea-94b9-44c6-8d42-9ca989e3eb73",
        "outputId": "1dd32f36-0bf3-4928-8e81-a8e19697b17c"
      },
      "outputs": [
        {
          "data": {
            "text/plain": [
              "False"
            ]
          },
          "execution_count": 48,
          "metadata": {},
          "output_type": "execute_result"
        }
      ],
      "source": [
        "89>=90              #greater than or equal to"
      ]
    },
    {
      "cell_type": "code",
      "execution_count": null,
      "id": "698ef13f-cf09-4cd0-8387-f2eba3c4b7d4",
      "metadata": {
        "id": "698ef13f-cf09-4cd0-8387-f2eba3c4b7d4",
        "outputId": "11d0b86b-0ff3-4f8d-c4a7-59da29a1a73e"
      },
      "outputs": [
        {
          "data": {
            "text/plain": [
              "True"
            ]
          },
          "execution_count": 49,
          "metadata": {},
          "output_type": "execute_result"
        }
      ],
      "source": [
        "7<=50             #less than or equal to"
      ]
    },
    {
      "cell_type": "markdown",
      "id": "6180c569-5f5b-4d1d-903d-88ad401965d4",
      "metadata": {
        "jp-MarkdownHeadingCollapsed": true,
        "id": "6180c569-5f5b-4d1d-903d-88ad401965d4"
      },
      "source": [
        "### logical operator"
      ]
    },
    {
      "cell_type": "code",
      "execution_count": null,
      "id": "f70ad9e4-8ab1-41a5-a140-6b2e9f43baa3",
      "metadata": {
        "id": "f70ad9e4-8ab1-41a5-a140-6b2e9f43baa3",
        "outputId": "8bc35eb4-a17c-41d4-c101-4626305965cc"
      },
      "outputs": [
        {
          "data": {
            "text/plain": [
              "True"
            ]
          },
          "execution_count": 63,
          "metadata": {},
          "output_type": "execute_result"
        }
      ],
      "source": [
        "#and\n",
        "True and True"
      ]
    },
    {
      "cell_type": "code",
      "execution_count": null,
      "id": "4a52adda-42f0-4425-8543-d1cf35ff5620",
      "metadata": {
        "id": "4a52adda-42f0-4425-8543-d1cf35ff5620",
        "outputId": "e3b4ecb5-3bb5-4e0b-b9dc-1c9f38f4dd69"
      },
      "outputs": [
        {
          "data": {
            "text/plain": [
              "False"
            ]
          },
          "execution_count": 57,
          "metadata": {},
          "output_type": "execute_result"
        }
      ],
      "source": [
        "True and False"
      ]
    },
    {
      "cell_type": "code",
      "execution_count": null,
      "id": "8c0b4fe5-af1f-4d53-97d8-1175aa0a7e04",
      "metadata": {
        "id": "8c0b4fe5-af1f-4d53-97d8-1175aa0a7e04",
        "outputId": "a0957fe1-5db9-4e54-d244-76b98219710b"
      },
      "outputs": [
        {
          "data": {
            "text/plain": [
              "False"
            ]
          },
          "execution_count": 60,
          "metadata": {},
          "output_type": "execute_result"
        }
      ],
      "source": [
        "False and True"
      ]
    },
    {
      "cell_type": "code",
      "execution_count": null,
      "id": "dc7a2f56-9672-460b-8935-02f5a55af360",
      "metadata": {
        "id": "dc7a2f56-9672-460b-8935-02f5a55af360",
        "outputId": "bb610c2f-6318-41f2-c3b0-d3879428b3c0"
      },
      "outputs": [
        {
          "data": {
            "text/plain": [
              "False"
            ]
          },
          "execution_count": 61,
          "metadata": {},
          "output_type": "execute_result"
        }
      ],
      "source": [
        "False and False"
      ]
    },
    {
      "cell_type": "code",
      "execution_count": null,
      "id": "a70361ed-3e4c-4969-a29c-04f5b8ddc9ed",
      "metadata": {
        "id": "a70361ed-3e4c-4969-a29c-04f5b8ddc9ed",
        "outputId": "2c8590da-e81e-494b-d836-2ddf36d20c0d"
      },
      "outputs": [
        {
          "data": {
            "text/plain": [
              "True"
            ]
          },
          "execution_count": 62,
          "metadata": {},
          "output_type": "execute_result"
        }
      ],
      "source": [
        "#or\n",
        "True or True"
      ]
    },
    {
      "cell_type": "code",
      "execution_count": null,
      "id": "fef23093-b18f-474e-b83e-39470bcdd5bb",
      "metadata": {
        "id": "fef23093-b18f-474e-b83e-39470bcdd5bb",
        "outputId": "d2719a17-5126-4699-97cc-ce8b065ec788"
      },
      "outputs": [
        {
          "data": {
            "text/plain": [
              "True"
            ]
          },
          "execution_count": 64,
          "metadata": {},
          "output_type": "execute_result"
        }
      ],
      "source": [
        "True or False"
      ]
    },
    {
      "cell_type": "code",
      "execution_count": null,
      "id": "a214f30c-5a21-40f7-84c4-da01959b7f7f",
      "metadata": {
        "id": "a214f30c-5a21-40f7-84c4-da01959b7f7f",
        "outputId": "136ac51c-a8ce-4f81-a57b-eb1f989b64cb"
      },
      "outputs": [
        {
          "data": {
            "text/plain": [
              "True"
            ]
          },
          "execution_count": 65,
          "metadata": {},
          "output_type": "execute_result"
        }
      ],
      "source": [
        "False or True"
      ]
    },
    {
      "cell_type": "code",
      "execution_count": null,
      "id": "ea0d6970-e511-48f5-8f04-b771ffb25947",
      "metadata": {
        "id": "ea0d6970-e511-48f5-8f04-b771ffb25947",
        "outputId": "a0823123-8266-4338-b2f8-e71184fd129d"
      },
      "outputs": [
        {
          "data": {
            "text/plain": [
              "False"
            ]
          },
          "execution_count": 66,
          "metadata": {},
          "output_type": "execute_result"
        }
      ],
      "source": [
        "False or False"
      ]
    },
    {
      "cell_type": "markdown",
      "id": "6edb72c0-e151-475d-9200-71347291b77c",
      "metadata": {
        "jp-MarkdownHeadingCollapsed": true,
        "id": "6edb72c0-e151-475d-9200-71347291b77c"
      },
      "source": [
        "### bitwise operator"
      ]
    },
    {
      "cell_type": "code",
      "execution_count": null,
      "id": "565a50ed-c5aa-44b4-965e-6e7733cb4be2",
      "metadata": {
        "id": "565a50ed-c5aa-44b4-965e-6e7733cb4be2",
        "outputId": "40d0566d-a216-4d52-c1b6-3ccea837f0ee"
      },
      "outputs": [
        {
          "data": {
            "text/plain": [
              "8"
            ]
          },
          "execution_count": 82,
          "metadata": {},
          "output_type": "execute_result"
        }
      ],
      "source": [
        "#bitwise and\n",
        "45&24               #bin(45)=101101 and bin(24)=11000 gives 1000 which is bin(8)"
      ]
    },
    {
      "cell_type": "code",
      "execution_count": null,
      "id": "b95677de-7770-4888-aa70-7e55593e55a4",
      "metadata": {
        "id": "b95677de-7770-4888-aa70-7e55593e55a4",
        "outputId": "b7a8d980-3b59-46e8-f50b-ec0e40038fff"
      },
      "outputs": [
        {
          "data": {
            "text/plain": [
              "14"
            ]
          },
          "execution_count": 83,
          "metadata": {},
          "output_type": "execute_result"
        }
      ],
      "source": [
        "#bitwise or\n",
        "14|14          #bin(14)=1110 or bin(14)=1110 gives 1110 which is bin(14)"
      ]
    },
    {
      "cell_type": "code",
      "execution_count": null,
      "id": "5fc86330-0e8e-45f5-98df-6e3ef949763b",
      "metadata": {
        "id": "5fc86330-0e8e-45f5-98df-6e3ef949763b",
        "outputId": "76fa87b2-d259-474e-f5a0-af310afd2db8"
      },
      "outputs": [
        {
          "data": {
            "text/plain": [
              "-68"
            ]
          },
          "execution_count": 84,
          "metadata": {},
          "output_type": "execute_result"
        }
      ],
      "source": [
        "#negotion\n",
        "~67"
      ]
    },
    {
      "cell_type": "code",
      "execution_count": null,
      "id": "d76f5e60-822f-4fbd-8996-61b5f903e419",
      "metadata": {
        "id": "d76f5e60-822f-4fbd-8996-61b5f903e419",
        "outputId": "61be7173-54a3-4620-9f4b-06a8169825b6"
      },
      "outputs": [
        {
          "data": {
            "text/plain": [
              "14"
            ]
          },
          "execution_count": 85,
          "metadata": {},
          "output_type": "execute_result"
        }
      ],
      "source": [
        "#XOR\n",
        "6^8    #bin(6)=110 ^ bin(8)=1000 gives 1110 which is bin(14)"
      ]
    },
    {
      "cell_type": "code",
      "execution_count": null,
      "id": "5192b07f-3aa5-46b9-b648-2ba325028cd9",
      "metadata": {
        "id": "5192b07f-3aa5-46b9-b648-2ba325028cd9",
        "outputId": "8e3ac184-32fc-4f7b-a4f0-b81862b8b352"
      },
      "outputs": [
        {
          "data": {
            "text/plain": [
              "1152"
            ]
          },
          "execution_count": 130,
          "metadata": {},
          "output_type": "execute_result"
        }
      ],
      "source": [
        "#left shift\n",
        "36<<5      #bin(36)=100100,bin(5)=101 by filling 0's on the right then we get 10010000000"
      ]
    },
    {
      "cell_type": "code",
      "execution_count": null,
      "id": "d5e0116a-7130-4cb0-be9f-cd172b9b9691",
      "metadata": {
        "id": "d5e0116a-7130-4cb0-be9f-cd172b9b9691"
      },
      "outputs": [],
      "source": []
    },
    {
      "cell_type": "code",
      "execution_count": null,
      "id": "76e4f758-bd16-4f22-8703-3965a04f68f8",
      "metadata": {
        "id": "76e4f758-bd16-4f22-8703-3965a04f68f8",
        "outputId": "4fa0ad2f-a979-4a78-8124-8916ab532e84"
      },
      "outputs": [
        {
          "data": {
            "text/plain": [
              "26"
            ]
          },
          "execution_count": 131,
          "metadata": {},
          "output_type": "execute_result"
        }
      ],
      "source": [
        "#Right shift operator\n",
        "850>>5       #bin(850)=1101010010,bin(5)=101 by removing 0's on the left then we get 11010"
      ]
    },
    {
      "cell_type": "markdown",
      "id": "bfdce46e-abb5-43c0-8741-e2146dc9c14d",
      "metadata": {
        "jp-MarkdownHeadingCollapsed": true,
        "id": "bfdce46e-abb5-43c0-8741-e2146dc9c14d"
      },
      "source": [
        "### assignment operators"
      ]
    },
    {
      "cell_type": "code",
      "execution_count": null,
      "id": "90134342-52d2-4087-ac02-30285f91e1dd",
      "metadata": {
        "id": "90134342-52d2-4087-ac02-30285f91e1dd"
      },
      "outputs": [],
      "source": [
        "b=164               #assignment"
      ]
    },
    {
      "cell_type": "code",
      "execution_count": null,
      "id": "b7063030-17dc-4a7c-a7f9-1d210eaff641",
      "metadata": {
        "id": "b7063030-17dc-4a7c-a7f9-1d210eaff641",
        "outputId": "7acbfb4c-3eda-422f-cab6-601017b9b1bb"
      },
      "outputs": [
        {
          "data": {
            "text/plain": [
              "622"
            ]
          },
          "execution_count": 133,
          "metadata": {},
          "output_type": "execute_result"
        }
      ],
      "source": [
        "b=79\n",
        "b+=543               #additional assignment\n",
        "b"
      ]
    },
    {
      "cell_type": "code",
      "execution_count": null,
      "id": "eaa02e7b-6e05-4873-958a-050bf790e0d1",
      "metadata": {
        "id": "eaa02e7b-6e05-4873-958a-050bf790e0d1",
        "outputId": "0e7a5694-d80e-45a7-e0b0-342d5f61f581"
      },
      "outputs": [
        {
          "data": {
            "text/plain": [
              "36"
            ]
          },
          "execution_count": 134,
          "metadata": {},
          "output_type": "execute_result"
        }
      ],
      "source": [
        "n=79\n",
        "n-=43                     #substraction assignment\n",
        "n"
      ]
    },
    {
      "cell_type": "code",
      "execution_count": null,
      "id": "25a0e593-3543-45bd-95c0-c99ff01e4333",
      "metadata": {
        "id": "25a0e593-3543-45bd-95c0-c99ff01e4333",
        "outputId": "b73a962d-dfd8-4b86-840f-75498f801afc"
      },
      "outputs": [
        {
          "data": {
            "text/plain": [
              "387"
            ]
          },
          "execution_count": 135,
          "metadata": {},
          "output_type": "execute_result"
        }
      ],
      "source": [
        "b=9\n",
        "b*=43                   #multiplication assignment\n",
        "b"
      ]
    },
    {
      "cell_type": "code",
      "execution_count": null,
      "id": "2e75080d-1d94-4444-977d-3eddcdc1cefa",
      "metadata": {
        "id": "2e75080d-1d94-4444-977d-3eddcdc1cefa",
        "outputId": "75d3472e-0cde-4437-d39d-5c32d682a9f6"
      },
      "outputs": [
        {
          "data": {
            "text/plain": [
              "0.14548802946593"
            ]
          },
          "execution_count": 136,
          "metadata": {},
          "output_type": "execute_result"
        }
      ],
      "source": [
        "a=79\n",
        "a/=543                     #division assignment\n",
        "a"
      ]
    },
    {
      "cell_type": "markdown",
      "id": "0599a9f2-b71f-4efc-8b7c-b14434554fda",
      "metadata": {
        "jp-MarkdownHeadingCollapsed": true,
        "id": "0599a9f2-b71f-4efc-8b7c-b14434554fda"
      },
      "source": [
        "### Membership operators"
      ]
    },
    {
      "cell_type": "code",
      "execution_count": null,
      "id": "33f41ce1-2ae0-4958-bf16-34436da7625c",
      "metadata": {
        "id": "33f41ce1-2ae0-4958-bf16-34436da7625c",
        "outputId": "ab8a147c-2e10-4434-f199-1b31e278732f"
      },
      "outputs": [
        {
          "data": {
            "text/plain": [
              "True"
            ]
          },
          "execution_count": 138,
          "metadata": {},
          "output_type": "execute_result"
        }
      ],
      "source": [
        "a=\"Crackers\"\n",
        "\"ker\" in a        #in operator"
      ]
    },
    {
      "cell_type": "code",
      "execution_count": null,
      "id": "b502afb3-9959-4be4-9028-39eab421317d",
      "metadata": {
        "id": "b502afb3-9959-4be4-9028-39eab421317d",
        "outputId": "3a3afb1e-1c6e-425b-d51e-84b8054cd5e1"
      },
      "outputs": [
        {
          "data": {
            "text/plain": [
              "False"
            ]
          },
          "execution_count": 123,
          "metadata": {},
          "output_type": "execute_result"
        }
      ],
      "source": [
        "\"s\" not in a        #not in operator"
      ]
    },
    {
      "cell_type": "markdown",
      "id": "f9fa53c7-34da-4af8-8216-8810dfe76bc8",
      "metadata": {
        "jp-MarkdownHeadingCollapsed": true,
        "id": "f9fa53c7-34da-4af8-8216-8810dfe76bc8"
      },
      "source": [
        "### Identify operators"
      ]
    },
    {
      "cell_type": "code",
      "execution_count": null,
      "id": "0dab614a-2760-45c0-8aba-04fbec371db9",
      "metadata": {
        "id": "0dab614a-2760-45c0-8aba-04fbec371db9",
        "outputId": "f98efc73-6a1e-480b-e696-ecfea6ab9c20"
      },
      "outputs": [
        {
          "data": {
            "text/plain": [
              "False"
            ]
          },
          "execution_count": 139,
          "metadata": {},
          "output_type": "execute_result"
        }
      ],
      "source": [
        "a=26\n",
        "b=300                   #is operator\n",
        "a is b"
      ]
    },
    {
      "cell_type": "code",
      "execution_count": null,
      "id": "077ded1e-5db3-49bb-bc8c-22e55cc7f820",
      "metadata": {
        "id": "077ded1e-5db3-49bb-bc8c-22e55cc7f820",
        "outputId": "746d4fd3-98cc-4304-9c08-eb6c6ae77bc4"
      },
      "outputs": [
        {
          "data": {
            "text/plain": [
              "False"
            ]
          },
          "execution_count": 126,
          "metadata": {},
          "output_type": "execute_result"
        }
      ],
      "source": [
        "a=2758\n",
        "b=a                     #is not operator\n",
        "a is not b"
      ]
    },
    {
      "cell_type": "markdown",
      "id": "9af6d6dc-76ef-415c-99f1-b0444c82284d",
      "metadata": {
        "jp-MarkdownHeadingCollapsed": true,
        "id": "9af6d6dc-76ef-415c-99f1-b0444c82284d"
      },
      "source": [
        "# Q5)Explain the concept of type casting in Python with examples.\n",
        "ANS-Type Casting >>> The process of converting variable's data type to another data type using function like str(),float() or int()."
      ]
    },
    {
      "cell_type": "code",
      "execution_count": null,
      "id": "f4f7199b-9100-490b-aa77-62f6a54e449d",
      "metadata": {
        "id": "f4f7199b-9100-490b-aa77-62f6a54e449d"
      },
      "outputs": [],
      "source": [
        "#Typecasting are of two types\n",
        ">> implicit\n",
        ">> explicit"
      ]
    },
    {
      "cell_type": "markdown",
      "id": "f77f076c-2f1e-4ba6-a7b7-29b369ac162d",
      "metadata": {
        "jp-MarkdownHeadingCollapsed": true,
        "id": "f77f076c-2f1e-4ba6-a7b7-29b369ac162d"
      },
      "source": [
        "## explicit typecasting  \n",
        ">> convert datatype using inbuilt function such as str,int,float,bool"
      ]
    },
    {
      "cell_type": "markdown",
      "id": "3f753204-6f2b-435b-a28c-5c1880157a75",
      "metadata": {
        "jp-MarkdownHeadingCollapsed": true,
        "id": "3f753204-6f2b-435b-a28c-5c1880157a75"
      },
      "source": [
        "### Typecasting>>> float to int          "
      ]
    },
    {
      "cell_type": "code",
      "execution_count": null,
      "id": "1f5dc34f-74eb-4026-83d5-ca1dc6fbade9",
      "metadata": {
        "id": "1f5dc34f-74eb-4026-83d5-ca1dc6fbade9",
        "outputId": "4931db19-d7d2-4cd0-80c1-957d441cfab2"
      },
      "outputs": [
        {
          "data": {
            "text/plain": [
              "float"
            ]
          },
          "execution_count": 161,
          "metadata": {},
          "output_type": "execute_result"
        }
      ],
      "source": [
        "a=82.697\n",
        "type(a)"
      ]
    },
    {
      "cell_type": "code",
      "execution_count": null,
      "id": "5e6f5efe-cffb-485b-94b3-f2b15580fe57",
      "metadata": {
        "id": "5e6f5efe-cffb-485b-94b3-f2b15580fe57",
        "outputId": "c931b94e-5baf-4033-c323-a38ce4379232"
      },
      "outputs": [
        {
          "data": {
            "text/plain": [
              "int"
            ]
          },
          "execution_count": 162,
          "metadata": {},
          "output_type": "execute_result"
        }
      ],
      "source": [
        "float_value=int(a)\n",
        "type(float_value)"
      ]
    },
    {
      "cell_type": "code",
      "execution_count": null,
      "id": "63d3510b-3110-4f1b-88b0-b6a398e8486b",
      "metadata": {
        "id": "63d3510b-3110-4f1b-88b0-b6a398e8486b",
        "outputId": "fb46febe-0cd3-460f-ced6-9da98e9b4c3e"
      },
      "outputs": [
        {
          "name": "stdout",
          "output_type": "stream",
          "text": [
            "82\n"
          ]
        }
      ],
      "source": [
        "print(float_value)"
      ]
    },
    {
      "cell_type": "markdown",
      "id": "cac27e13-c4b0-45b8-b861-b6803033f0c4",
      "metadata": {
        "jp-MarkdownHeadingCollapsed": true,
        "id": "cac27e13-c4b0-45b8-b861-b6803033f0c4"
      },
      "source": [
        "### Typecasting>>> int to float"
      ]
    },
    {
      "cell_type": "code",
      "execution_count": null,
      "id": "f7ada7a4-13ba-46db-a670-d032592f8e90",
      "metadata": {
        "id": "f7ada7a4-13ba-46db-a670-d032592f8e90",
        "outputId": "e20dd070-d64e-4bf8-f314-df33180cf7c2"
      },
      "outputs": [
        {
          "data": {
            "text/plain": [
              "int"
            ]
          },
          "execution_count": 164,
          "metadata": {},
          "output_type": "execute_result"
        }
      ],
      "source": [
        "a=265\n",
        "type(a)"
      ]
    },
    {
      "cell_type": "code",
      "execution_count": null,
      "id": "33011422-eca5-43f1-8fe2-0361d4128f07",
      "metadata": {
        "id": "33011422-eca5-43f1-8fe2-0361d4128f07",
        "outputId": "32d94a99-615c-42e7-8516-82cdc4e5e045"
      },
      "outputs": [
        {
          "data": {
            "text/plain": [
              "265.0"
            ]
          },
          "execution_count": 165,
          "metadata": {},
          "output_type": "execute_result"
        }
      ],
      "source": [
        "value=float(a)\n",
        "value"
      ]
    },
    {
      "cell_type": "code",
      "execution_count": null,
      "id": "0bd9db72-7cae-4ca9-a958-ded980137a8c",
      "metadata": {
        "id": "0bd9db72-7cae-4ca9-a958-ded980137a8c",
        "outputId": "1e8cba5b-0c6f-4d56-b67a-d6d4ef29a776"
      },
      "outputs": [
        {
          "name": "stdout",
          "output_type": "stream",
          "text": [
            "265.0\n"
          ]
        }
      ],
      "source": [
        "print(value)"
      ]
    },
    {
      "cell_type": "markdown",
      "id": "44b21e97-8b22-4c12-8cbe-a79b70ca3958",
      "metadata": {
        "jp-MarkdownHeadingCollapsed": true,
        "id": "44b21e97-8b22-4c12-8cbe-a79b70ca3958"
      },
      "source": [
        "### Typecasting>>> str to int"
      ]
    },
    {
      "cell_type": "code",
      "execution_count": null,
      "id": "d0282b1e-5ae9-4a94-9b59-71fe138cda0c",
      "metadata": {
        "id": "d0282b1e-5ae9-4a94-9b59-71fe138cda0c",
        "outputId": "40f1b9a0-81af-44de-e14a-d666e62c7d84"
      },
      "outputs": [
        {
          "data": {
            "text/plain": [
              "str"
            ]
          },
          "execution_count": 183,
          "metadata": {},
          "output_type": "execute_result"
        }
      ],
      "source": [
        "a=\"20\"\n",
        "type(a)"
      ]
    },
    {
      "cell_type": "code",
      "execution_count": null,
      "id": "855f6bdd-9f23-4264-9293-b056ea78b1ec",
      "metadata": {
        "id": "855f6bdd-9f23-4264-9293-b056ea78b1ec",
        "outputId": "376c3007-fe9a-4c71-f202-e344210bbb09"
      },
      "outputs": [
        {
          "data": {
            "text/plain": [
              "int"
            ]
          },
          "execution_count": 184,
          "metadata": {},
          "output_type": "execute_result"
        }
      ],
      "source": [
        "type(int(a))"
      ]
    },
    {
      "cell_type": "code",
      "execution_count": null,
      "id": "1ba415c7-9ba8-4391-aa50-067cf7b1d1bd",
      "metadata": {
        "id": "1ba415c7-9ba8-4391-aa50-067cf7b1d1bd",
        "outputId": "4bd05526-7ca8-4706-8f85-1266cc84ab8e"
      },
      "outputs": [
        {
          "name": "stdout",
          "output_type": "stream",
          "text": [
            "20\n"
          ]
        }
      ],
      "source": [
        "print(a)"
      ]
    },
    {
      "cell_type": "markdown",
      "id": "64d818e1-ff0d-42f2-9fa0-e0b14bf4ac70",
      "metadata": {
        "jp-MarkdownHeadingCollapsed": true,
        "id": "64d818e1-ff0d-42f2-9fa0-e0b14bf4ac70"
      },
      "source": [
        "### Typecasting>>> str to float"
      ]
    },
    {
      "cell_type": "code",
      "execution_count": null,
      "id": "7b326a36-e25c-4b5c-96d8-7f496690333b",
      "metadata": {
        "id": "7b326a36-e25c-4b5c-96d8-7f496690333b",
        "outputId": "d72578a1-6c9d-4568-d153-0010be51f2c8"
      },
      "outputs": [
        {
          "data": {
            "text/plain": [
              "str"
            ]
          },
          "execution_count": 167,
          "metadata": {},
          "output_type": "execute_result"
        }
      ],
      "source": [
        "a=\"6.48\"\n",
        "type(a)"
      ]
    },
    {
      "cell_type": "code",
      "execution_count": null,
      "id": "323b9ab6-2f84-4430-be1c-4b77288d0c57",
      "metadata": {
        "id": "323b9ab6-2f84-4430-be1c-4b77288d0c57",
        "outputId": "436b9040-a370-45d0-de8f-d37af17cde0f"
      },
      "outputs": [
        {
          "data": {
            "text/plain": [
              "float"
            ]
          },
          "execution_count": 168,
          "metadata": {},
          "output_type": "execute_result"
        }
      ],
      "source": [
        "b=float(a)\n",
        "type(b)"
      ]
    },
    {
      "cell_type": "code",
      "execution_count": null,
      "id": "59a83144-09f1-4ef5-9d2c-f3d8a776e2a9",
      "metadata": {
        "id": "59a83144-09f1-4ef5-9d2c-f3d8a776e2a9",
        "outputId": "4d80abbb-6c16-40f1-bde1-00da5b57b9ad"
      },
      "outputs": [
        {
          "name": "stdout",
          "output_type": "stream",
          "text": [
            "6.48\n"
          ]
        }
      ],
      "source": [
        "print(b)"
      ]
    },
    {
      "cell_type": "code",
      "execution_count": null,
      "id": "edddd011-7763-4865-baa7-979b04e1bbda",
      "metadata": {
        "id": "edddd011-7763-4865-baa7-979b04e1bbda"
      },
      "outputs": [],
      "source": [
        "#This example is executed as the orginal string has numerial value inside it\n",
        "#But if the orginal string would be having characters then in that case string cannot be converted into float and int."
      ]
    },
    {
      "cell_type": "markdown",
      "id": "5613407b-69cd-4ce2-9248-44765b13f697",
      "metadata": {
        "id": "5613407b-69cd-4ce2-9248-44765b13f697"
      },
      "source": [
        ">>> case:\n",
        "string cannot be converted into float nor into int"
      ]
    },
    {
      "cell_type": "code",
      "execution_count": null,
      "id": "ac9ce34c-ff75-4d28-8ce2-b88ebad94f7b",
      "metadata": {
        "id": "ac9ce34c-ff75-4d28-8ce2-b88ebad94f7b",
        "outputId": "23ab0f6f-1226-4493-8331-22d7106dc9fe"
      },
      "outputs": [
        {
          "data": {
            "text/plain": [
              "str"
            ]
          },
          "execution_count": 170,
          "metadata": {},
          "output_type": "execute_result"
        }
      ],
      "source": [
        "a=\"Tina\"         #a=\"Tina\" as here \"Tina\" is character cannot be converted to float or to int\n",
        "type(a)"
      ]
    },
    {
      "cell_type": "code",
      "execution_count": null,
      "id": "7b3a6cb4-c9f0-4a92-b99b-dfe8254b3ae8",
      "metadata": {
        "id": "7b3a6cb4-c9f0-4a92-b99b-dfe8254b3ae8",
        "outputId": "39c84ecf-2250-457c-e9c6-8c098f45ce91"
      },
      "outputs": [
        {
          "ename": "ValueError",
          "evalue": "could not convert string to float: 'Tina'",
          "output_type": "error",
          "traceback": [
            "\u001b[31m---------------------------------------------------------------------------\u001b[39m",
            "\u001b[31mValueError\u001b[39m                                Traceback (most recent call last)",
            "\u001b[36mCell\u001b[39m\u001b[36m \u001b[39m\u001b[32mIn[172]\u001b[39m\u001b[32m, line 1\u001b[39m\n\u001b[32m----> \u001b[39m\u001b[32m1\u001b[39m r=\u001b[38;5;28mtype\u001b[39m(\u001b[38;5;28;43mfloat\u001b[39;49m\u001b[43m(\u001b[49m\u001b[43ma\u001b[49m\u001b[43m)\u001b[49m)\n\u001b[32m      2\u001b[39m r\n",
            "\u001b[31mValueError\u001b[39m: could not convert string to float: 'Tina'"
          ]
        }
      ],
      "source": [
        "r=type(float(a))\n",
        "r"
      ]
    },
    {
      "cell_type": "code",
      "execution_count": null,
      "id": "bdff4b13-b275-4fec-8207-b0a8d4457b3f",
      "metadata": {
        "id": "bdff4b13-b275-4fec-8207-b0a8d4457b3f",
        "outputId": "b70ce35e-a4e6-4c69-9311-8ab45629e887"
      },
      "outputs": [
        {
          "ename": "ValueError",
          "evalue": "invalid literal for int() with base 10: 'Tina'",
          "output_type": "error",
          "traceback": [
            "\u001b[31m---------------------------------------------------------------------------\u001b[39m",
            "\u001b[31mValueError\u001b[39m                                Traceback (most recent call last)",
            "\u001b[36mCell\u001b[39m\u001b[36m \u001b[39m\u001b[32mIn[173]\u001b[39m\u001b[32m, line 1\u001b[39m\n\u001b[32m----> \u001b[39m\u001b[32m1\u001b[39m c=\u001b[38;5;28mtype\u001b[39m(\u001b[38;5;28;43mint\u001b[39;49m\u001b[43m(\u001b[49m\u001b[43ma\u001b[49m\u001b[43m)\u001b[49m)\n\u001b[32m      2\u001b[39m c\n",
            "\u001b[31mValueError\u001b[39m: invalid literal for int() with base 10: 'Tina'"
          ]
        }
      ],
      "source": [
        "c=type(int(a))\n",
        "c"
      ]
    },
    {
      "cell_type": "markdown",
      "id": "9d692fa0-c1b2-44a9-9833-e9619bbb12ee",
      "metadata": {
        "id": "9d692fa0-c1b2-44a9-9833-e9619bbb12ee"
      },
      "source": [
        "### Typecasting>>> int to str"
      ]
    },
    {
      "cell_type": "code",
      "execution_count": null,
      "id": "8bde32d6-4040-41d4-ab26-c8f6910a7814",
      "metadata": {
        "id": "8bde32d6-4040-41d4-ab26-c8f6910a7814",
        "outputId": "c35174d3-215d-41ed-b1c2-424f8d1632fa"
      },
      "outputs": [
        {
          "data": {
            "text/plain": [
              "int"
            ]
          },
          "execution_count": 177,
          "metadata": {},
          "output_type": "execute_result"
        }
      ],
      "source": [
        "a=5754\n",
        "type(a)"
      ]
    },
    {
      "cell_type": "code",
      "execution_count": null,
      "id": "4f43cfb5-ac27-49d3-8f68-885be07cf1b2",
      "metadata": {
        "id": "4f43cfb5-ac27-49d3-8f68-885be07cf1b2",
        "outputId": "e6fba6cc-2640-43a5-ab34-562921673e1f"
      },
      "outputs": [
        {
          "data": {
            "text/plain": [
              "'5754'"
            ]
          },
          "execution_count": 178,
          "metadata": {},
          "output_type": "execute_result"
        }
      ],
      "source": [
        "c=str(a)\n",
        "c"
      ]
    },
    {
      "cell_type": "markdown",
      "id": "6379f632-48a0-4817-a1bb-dc1df6f646d4",
      "metadata": {
        "id": "6379f632-48a0-4817-a1bb-dc1df6f646d4"
      },
      "source": [
        "### boolean typecasting"
      ]
    },
    {
      "cell_type": "code",
      "execution_count": null,
      "id": "bee36ebb-7ef3-4d71-8f1d-8dab3b4e2857",
      "metadata": {
        "id": "bee36ebb-7ef3-4d71-8f1d-8dab3b4e2857",
        "outputId": "ed6cdcc7-bf80-4e14-b1a1-1b8dadc4cbaf"
      },
      "outputs": [
        {
          "data": {
            "text/plain": [
              "True"
            ]
          },
          "execution_count": 190,
          "metadata": {},
          "output_type": "execute_result"
        }
      ],
      "source": [
        "bool(1655855)"
      ]
    },
    {
      "cell_type": "code",
      "execution_count": null,
      "id": "1e226b27-ea87-467f-a62e-d35c916d6d37",
      "metadata": {
        "id": "1e226b27-ea87-467f-a62e-d35c916d6d37",
        "outputId": "73021a93-58c0-4976-f0d9-62ef1786d939"
      },
      "outputs": [
        {
          "data": {
            "text/plain": [
              "True"
            ]
          },
          "execution_count": 192,
          "metadata": {},
          "output_type": "execute_result"
        }
      ],
      "source": [
        "bool(-1)"
      ]
    },
    {
      "cell_type": "code",
      "execution_count": null,
      "id": "1ca5d356-756d-4663-9460-9b47555bbd78",
      "metadata": {
        "id": "1ca5d356-756d-4663-9460-9b47555bbd78",
        "outputId": "9329324e-3fb5-48d6-9606-e524067ff5b0"
      },
      "outputs": [
        {
          "data": {
            "text/plain": [
              "True"
            ]
          },
          "execution_count": 191,
          "metadata": {},
          "output_type": "execute_result"
        }
      ],
      "source": [
        "bool(\"soft\")"
      ]
    },
    {
      "cell_type": "code",
      "execution_count": null,
      "id": "aa9ead50-35c6-4c9a-9c9f-c95b327698dd",
      "metadata": {
        "id": "aa9ead50-35c6-4c9a-9c9f-c95b327698dd",
        "outputId": "2c652e86-dd6b-4a9b-813a-67c194b9bc63"
      },
      "outputs": [
        {
          "data": {
            "text/plain": [
              "False"
            ]
          },
          "execution_count": 189,
          "metadata": {},
          "output_type": "execute_result"
        }
      ],
      "source": [
        "bool(0)"
      ]
    },
    {
      "cell_type": "code",
      "execution_count": null,
      "id": "d6d60a78-7a0f-47eb-b33d-128de6650311",
      "metadata": {
        "id": "d6d60a78-7a0f-47eb-b33d-128de6650311"
      },
      "outputs": [],
      "source": [
        "#every value other than '0' will be treated as True"
      ]
    },
    {
      "cell_type": "code",
      "execution_count": null,
      "id": "6fa5eb60-193f-4f1f-aacb-2357667a7a5f",
      "metadata": {
        "id": "6fa5eb60-193f-4f1f-aacb-2357667a7a5f"
      },
      "outputs": [],
      "source": [
        ">>> case:\n",
        "bool(\"\") #empty string will always be treated as false"
      ]
    },
    {
      "cell_type": "markdown",
      "id": "d3342238-b8c3-44da-b3ee-45b034e835e8",
      "metadata": {
        "id": "d3342238-b8c3-44da-b3ee-45b034e835e8"
      },
      "source": [
        "## implicit typecasting\n",
        ">> automatically understand the datatype of the data it is int,float,str,etc."
      ]
    },
    {
      "cell_type": "code",
      "execution_count": null,
      "id": "38352c89-b924-4774-bf31-d39a7094fd6a",
      "metadata": {
        "id": "38352c89-b924-4774-bf31-d39a7094fd6a",
        "outputId": "9dc342cc-e985-4ef5-84a9-37220603f30c"
      },
      "outputs": [
        {
          "data": {
            "text/plain": [
              "61.87"
            ]
          },
          "execution_count": 193,
          "metadata": {},
          "output_type": "execute_result"
        }
      ],
      "source": [
        "56+5.87"
      ]
    },
    {
      "cell_type": "markdown",
      "id": "eb5886ce-ec53-4f90-87f8-6f6556f6612e",
      "metadata": {
        "id": "eb5886ce-ec53-4f90-87f8-6f6556f6612e"
      },
      "source": [
        "# Q6)How do conditional statements work in Python?Ilustrate with examples.\n",
        "ANS- To illustrate the working of conditional statements in Python ,let us dicuss it's each types with example!"
      ]
    },
    {
      "cell_type": "markdown",
      "id": "f2f2661d-27ba-4b07-91c5-716dccd9f1eb",
      "metadata": {
        "jp-MarkdownHeadingCollapsed": true,
        "id": "f2f2661d-27ba-4b07-91c5-716dccd9f1eb"
      },
      "source": [
        "### if statement"
      ]
    },
    {
      "cell_type": "code",
      "execution_count": null,
      "id": "3d58cb7e-64d6-4a1e-90b5-bd914ee6e02a",
      "metadata": {
        "id": "3d58cb7e-64d6-4a1e-90b5-bd914ee6e02a",
        "outputId": "444d0139-d223-4584-a355-255a548163af"
      },
      "outputs": [
        {
          "name": "stdin",
          "output_type": "stream",
          "text": [
            "please enter number: 97542\n"
          ]
        },
        {
          "name": "stdout",
          "output_type": "stream",
          "text": [
            "The number is even.\n"
          ]
        }
      ],
      "source": [
        "n=input(\"please enter a number:\")\n",
        "num=int(n)\n",
        "if num %2==0:\n",
        "    print(\"The number is even.\")"
      ]
    },
    {
      "cell_type": "markdown",
      "id": "9de25eee-ecfb-41ba-82fe-b08942604c7f",
      "metadata": {
        "id": "9de25eee-ecfb-41ba-82fe-b08942604c7f"
      },
      "source": [
        "### if-else statement"
      ]
    },
    {
      "cell_type": "code",
      "execution_count": null,
      "id": "dd057737-7367-4a03-a4ff-f9b5ebb3c031",
      "metadata": {
        "id": "dd057737-7367-4a03-a4ff-f9b5ebb3c031",
        "outputId": "6a090839-2f76-4eb8-ff6f-2125210b9aa4"
      },
      "outputs": [
        {
          "name": "stdin",
          "output_type": "stream",
          "text": [
            "please enter ur age: 5\n"
          ]
        },
        {
          "name": "stdout",
          "output_type": "stream",
          "text": [
            "minority\n"
          ]
        }
      ],
      "source": [
        "n = input(\"please enter ur age:\")\n",
        "age=int(n)\n",
        "if age>=18:\n",
        "    print(\"you are eligible to vote!\")\n",
        "else:\n",
        "    print(\"minority\")"
      ]
    },
    {
      "cell_type": "markdown",
      "id": "68cfa9cf-f227-4cbc-8c85-5bd145bae86f",
      "metadata": {
        "jp-MarkdownHeadingCollapsed": true,
        "id": "68cfa9cf-f227-4cbc-8c85-5bd145bae86f"
      },
      "source": [
        "### if elif else statement"
      ]
    },
    {
      "cell_type": "code",
      "execution_count": null,
      "id": "fec6c5ac-d2dd-42cc-971e-639032780940",
      "metadata": {
        "id": "fec6c5ac-d2dd-42cc-971e-639032780940",
        "outputId": "0480a4b1-28d1-4971-b294-0c9ae00a987f"
      },
      "outputs": [
        {
          "name": "stdin",
          "output_type": "stream",
          "text": [
            "please enter ur mark: 65.76\n"
          ]
        },
        {
          "name": "stdout",
          "output_type": "stream",
          "text": [
            "grade D\n"
          ]
        }
      ],
      "source": [
        "num=input(\"please enter ur mark:\")\n",
        "score=float(num)\n",
        "if score>=90:\n",
        "    print(\"grade A\")\n",
        "elif(80<=score<90):\n",
        "    print(\"grade B\")\n",
        "elif(70<=score<80):\n",
        "    print(\"grade C\")\n",
        "elif(60<=score<70):\n",
        "    print(\"grade D\")\n",
        "elif(50<=score<60):\n",
        "    print(\"grade E\")\n",
        "else:\n",
        "    print(\"grade F\")"
      ]
    },
    {
      "cell_type": "markdown",
      "id": "d8b9d3d9-f466-4c93-ba9a-000d60eaadb4",
      "metadata": {
        "jp-MarkdownHeadingCollapsed": true,
        "id": "d8b9d3d9-f466-4c93-ba9a-000d60eaadb4"
      },
      "source": [
        "### nested if else statement"
      ]
    },
    {
      "cell_type": "code",
      "execution_count": null,
      "id": "58e5c373-f318-4e4c-ba4e-95280c66d684",
      "metadata": {
        "id": "58e5c373-f318-4e4c-ba4e-95280c66d684",
        "outputId": "04a87dbb-dfb0-4154-f558-3b99381de17d"
      },
      "outputs": [
        {
          "name": "stdout",
          "output_type": "stream",
          "text": [
            "x is not greater than 5\n"
          ]
        }
      ],
      "source": [
        "x=1\n",
        "y=6\n",
        "if x>5:\n",
        "    if y>5:\n",
        "     print(\"both x and y is greater than 5\")\n",
        "    else:\n",
        "     print(\"x is greater than 5 but y is less than 5\")\n",
        "else:\n",
        "     print(\"x is not greater than 5\")"
      ]
    },
    {
      "cell_type": "markdown",
      "id": "0424811b-c140-463a-bec0-7698c21a8d73",
      "metadata": {
        "id": "0424811b-c140-463a-bec0-7698c21a8d73"
      },
      "source": [
        "# Q7)Describe the different types of loops in Python and their use cases with examples\n",
        "ANS-There are two types of loops in Python:\n",
        "\n",
        "\n",
        "*  while loop\n",
        "*  for loop\n",
        "\n",
        "\n",
        "\n",
        "\n"
      ]
    },
    {
      "cell_type": "markdown",
      "id": "04f09905-6b28-4ec7-8ce7-40163b0a7d3e",
      "metadata": {
        "jp-MarkdownHeadingCollapsed": true,
        "id": "04f09905-6b28-4ec7-8ce7-40163b0a7d3e"
      },
      "source": [
        "### while loop"
      ]
    },
    {
      "cell_type": "code",
      "execution_count": null,
      "id": "825be131-ba80-401e-b19e-f6e0385a9974",
      "metadata": {
        "id": "825be131-ba80-401e-b19e-f6e0385a9974",
        "outputId": "915b5ff5-8d28-4840-b720-cc004453fad8"
      },
      "outputs": [
        {
          "name": "stdin",
          "output_type": "stream",
          "text": [
            "please enter a number: 45\n"
          ]
        },
        {
          "name": "stdout",
          "output_type": "stream",
          "text": [
            "1\n",
            "2\n",
            "3\n",
            "4\n",
            "5\n",
            "6\n",
            "7\n"
          ]
        }
      ],
      "source": [
        "num=input(\"please enter a number:\")\n",
        "n=int(num)\n",
        "i=1\n",
        "while i<n:\n",
        "      print(i)\n",
        "      i+=1\n",
        "      if i==8:\n",
        "          break\n",
        "          print(\"updated i is:\",i)\n",
        "else:\n",
        "    print(\"The program had executed successfully\")"
      ]
    },
    {
      "cell_type": "code",
      "execution_count": null,
      "id": "1c8113a0-6025-4906-bab6-8e2f4cd79fd9",
      "metadata": {
        "id": "1c8113a0-6025-4906-bab6-8e2f4cd79fd9",
        "outputId": "7bf5d6c3-105a-46e3-cfb0-d592caef7de3"
      },
      "outputs": [
        {
          "name": "stdout",
          "output_type": "stream",
          "text": [
            "1\n",
            "new i is 2\n",
            "2\n",
            "3\n",
            "new i is 4\n",
            "4\n",
            "new i is 5\n",
            "5\n",
            "new i is 6\n",
            "6\n",
            "new i is 7\n",
            "program executed successfully!\n"
          ]
        }
      ],
      "source": [
        "n=7\n",
        "i=1\n",
        "while i<n:\n",
        "      print(i)\n",
        "      i+=1\n",
        "      if i==3:\n",
        "          continue\n",
        "      print(\"new i is\",i)\n",
        "else:\n",
        "    print(\"program executed successfully!\")"
      ]
    },
    {
      "cell_type": "markdown",
      "id": "eb227e42-bf5a-4bf3-ba7f-49722a593f3d",
      "metadata": {
        "jp-MarkdownHeadingCollapsed": true,
        "id": "eb227e42-bf5a-4bf3-ba7f-49722a593f3d"
      },
      "source": [
        "### for loop"
      ]
    },
    {
      "cell_type": "code",
      "execution_count": null,
      "id": "4200f8c6-1fc2-4684-a0a7-8d2ac7ebdb2c",
      "metadata": {
        "id": "4200f8c6-1fc2-4684-a0a7-8d2ac7ebdb2c",
        "outputId": "c84a4f23-7f8a-4587-9c72-37bc37347ad2"
      },
      "outputs": [
        {
          "name": "stdout",
          "output_type": "stream",
          "text": [
            "87\n",
            "22.88\n",
            "letter\n",
            "Skills\n"
          ]
        }
      ],
      "source": [
        "l=[87,22.88,\"letter\",\"Skills\"]\n",
        "for i in l:\n",
        "    print(i)"
      ]
    },
    {
      "cell_type": "code",
      "execution_count": null,
      "id": "f7625fcf-cede-4143-b418-9d582ebe593c",
      "metadata": {
        "id": "f7625fcf-cede-4143-b418-9d582ebe593c",
        "outputId": "e8c1597d-fd57-4158-c051-285a8754e2ff"
      },
      "outputs": [
        {
          "name": "stdout",
          "output_type": "stream",
          "text": [
            "30 32 34 36 38 40 42 44 46 48 50 52 54 56 58 60 62 64 66 68 70 72 74 76 78 "
          ]
        }
      ],
      "source": [
        "for i in range(30,80,2):\n",
        "    print(i,end=\" \")"
      ]
    },
    {
      "cell_type": "code",
      "execution_count": null,
      "id": "68daba7a-f3ad-439f-b18f-871c62d6001f",
      "metadata": {
        "id": "68daba7a-f3ad-439f-b18f-871c62d6001f"
      },
      "outputs": [],
      "source": []
    }
  ],
  "metadata": {
    "kernelspec": {
      "display_name": "Python 3 (ipykernel)",
      "language": "python",
      "name": "python3"
    },
    "language_info": {
      "codemirror_mode": {
        "name": "ipython",
        "version": 3
      },
      "file_extension": ".py",
      "mimetype": "text/x-python",
      "name": "python",
      "nbconvert_exporter": "python",
      "pygments_lexer": "ipython3",
      "version": "3.13.2"
    },
    "colab": {
      "provenance": []
    }
  },
  "nbformat": 4,
  "nbformat_minor": 5
}