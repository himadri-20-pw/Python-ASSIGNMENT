{
 "cells": [
  {
   "cell_type": "markdown",
   "id": "8bf59938-92ff-4680-b4a9-71746ccd9ed0",
   "metadata": {},
   "source": [
    "# Statistics Advance Part 1"
   ]
  },
  {
   "cell_type": "markdown",
   "id": "76c95dcf-fc23-43a8-93ed-9660684214f3",
   "metadata": {
    "jp-MarkdownHeadingCollapsed": true
   },
   "source": [
    "### Q1) What is a random variable in probability theory?"
   ]
  },
  {
   "cell_type": "markdown",
   "id": "311a585c-f2c6-4792-bf22-ba5ee13f9108",
   "metadata": {},
   "source": [
    "#### ANS- A random variable is a set of possible values from a random experiment."
   ]
  },
  {
   "cell_type": "markdown",
   "id": "bc76ff07-058e-45a5-b0ff-8a5574815868",
   "metadata": {},
   "source": [
    "#### Example:\n",
    "Imagine flipping a coin twice. The sample space is {HH, HT, TH, TT}. A random variable could be defined as the number of heads obtained. In this case, the random variable would map HH to 2, HT to 1, TH to 1, and TT to 0."
   ]
  },
  {
   "cell_type": "markdown",
   "id": "18d6c60c-60d9-45f4-8a2c-7fe5adf50745",
   "metadata": {
    "jp-MarkdownHeadingCollapsed": true
   },
   "source": [
    "### Q2) What are the types of random variables?"
   ]
  },
  {
   "cell_type": "markdown",
   "id": "71e1b6d9-3b50-4109-8307-4de0d93ddd43",
   "metadata": {
    "jp-MarkdownHeadingCollapsed": true
   },
   "source": [
    "#### ANS- Types of Random Variables:\n",
    "#### Discrete Random Variable:\n",
    "A random variable that can take on a finite or countably infinite number of distinct values.\n",
    "##### Key Features:\n",
    "Values can be listed or counted individually\n",
    "Associated with probability mass functions (PMF)\n",
    "##### Example: The number of heads in 3 coin flips (values: 0, 1, 2, 3).\n",
    "#### Continuous Random Variable:\n",
    "A random variable that can take on any value within a given range (usually an interval of real numbers).\n",
    "##### Key Features:\n",
    "Values cannot be counted; they lie on a continuum\n",
    "Associated with probability density functions (PDF)\n",
    "The probability of the variable taking any exact value is zero; instead, we compute probabilities over intervals (e.g., \n",
    "P(1.0<X<1.5))\n",
    "##### Example: The time it takes for a bus to arrive (values could be any real number ≥ 0)."
   ]
  },
  {
   "cell_type": "markdown",
   "id": "41e7f8c5-6460-4eb5-b161-61c773d0e49b",
   "metadata": {
    "jp-MarkdownHeadingCollapsed": true
   },
   "source": [
    "### Q3) What is the difference between discrete and continuous distributions?"
   ]
  },
  {
   "cell_type": "code",
   "execution_count": null,
   "id": "3cd1bd15-5d20-4271-93be-027101666f57",
   "metadata": {},
   "outputs": [],
   "source": [
    "#### ANS- 1. Discrete Distributions: Used for discrete random variables, which take on a countable number of possible values (finite or countably infinite).\n",
    "\n",
    " Probability Tool: Probability Mass Function (PMF)\n",
    "\n",
    "   .PMF gives the probability that a discrete random variable is exactly equal to some value:\n",
    "         P(X=x)\n",
    " Properties:\n",
    "   .Each value has a non-zero probability\n",
    "   .The sum of all probabilities is 1:\n",
    "\n",
    "     ∑ P(X=x)=1\n",
    "     𝑥\n",
    "Examples:\n",
    "Tossing a coin: \n",
    "X={0,1}\n",
    "\n",
    "Rolling a die: \n",
    "X={1,2,3,4,5,6}"
   ]
  },
  {
   "cell_type": "code",
   "execution_count": null,
   "id": "edefe2db-2a31-462d-970d-d9d933a76f3e",
   "metadata": {},
   "outputs": [],
   "source": [
    "#### 2. Continuous Distributions: Used for continuous random variables, which can take on infinitely many values over a continuous range (e.g., real numbers in an interval).\n",
    "\n",
    "Probability Tool: Probability Density Function (PDF)\n",
    ".PDF gives the relative likelihood of a value, but:\n",
    "     P(X=x)=0for any single value\n",
    "To find actual probabilities, you compute the area under the curve:\n",
    "                a\n",
    "       P(a≤X≤b)=∫ 𝑓(𝑥)𝑑𝑥\n",
    "                b \n",
    "Properties:\n",
    "Probabilities are measured over intervals\n",
    "The total area under the curve is 1:\n",
    "∞\n",
    "∫𝑓(𝑥)𝑑𝑥=1\n",
    "−∞\n",
    "Examples:\n",
    "Height of people\n",
    "Time taken to finish a task\n",
    "Temperature in a day"
   ]
  },
  {
   "cell_type": "markdown",
   "id": "74a49262-a3c4-475e-a12b-3cc31b95289c",
   "metadata": {
    "jp-MarkdownHeadingCollapsed": true
   },
   "source": [
    "### Q4) What are probability distribution functions (PDF)?"
   ]
  },
  {
   "cell_type": "markdown",
   "id": "a4fdffce-c990-4f36-aac9-9bc4bfecf7fd",
   "metadata": {},
   "source": [
    "#### ANS- A Probability Distribution Function (PDF) refers to a Probability Density Function, which describes the probability distribution of a continuous random variable.A PDF doesn't give probabilities directly.Instead, it tells you how dense the probability is around a given value.The area under the curve of the PDF between two points represents the probability that the random variable falls in that interval."
   ]
  },
  {
   "cell_type": "markdown",
   "id": "c430d979-eea8-4ed1-8663-f67539db220e",
   "metadata": {
    "jp-MarkdownHeadingCollapsed": true
   },
   "source": [
    "### Q5) How do cumulative distribution functions (CDF) differ from probability distribution functions (PDF)?"
   ]
  },
  {
   "cell_type": "markdown",
   "id": "6b57dc54-2b20-4d5a-b691-9a41cc1e4568",
   "metadata": {},
   "source": [
    "#### ANS- PDF is the probability that a random variable (let X), will take a value exactly equal to the random variable (X) while\tCDF is the probability that a random variable (let X) will take a value less than or equal to the random variable (X).PDF is Applicable only for Continuous Random Variable while CDF is Applicable for both continuous and discrete random variables.The PDF value lies between 0 and 1 while The value of CDF is always non-negative.Formula for PDF is \tP (a <= X <= b) = F(b) – F(a) while Formula for CDF is FX(X) = P (X<= X)"
   ]
  },
  {
   "cell_type": "markdown",
   "id": "da619653-2b49-4af5-ab80-0100947b9ade",
   "metadata": {
    "jp-MarkdownHeadingCollapsed": true
   },
   "source": [
    "### Q6) What is a discrete uniform distribution?"
   ]
  },
  {
   "cell_type": "markdown",
   "id": "9a24be64-a97f-4bd2-ab98-9e909e570a1e",
   "metadata": {},
   "source": [
    "#### ANS- A discrete uniform distribution is a type of probability distribution where all outcomes are equally likely among a finite set of distinct values.In a discrete Uniform distribution, the outcomes are discrete and have the same probability.eg-rolling a dice,tossing a coin,picking up a card from will shuffed deck."
   ]
  },
  {
   "cell_type": "code",
   "execution_count": null,
   "id": "9f29cf17-419a-4c25-9b37-949082ae8701",
   "metadata": {},
   "outputs": [],
   "source": [
    "mean of dicrete uniform distribution=(a+b)/2\n",
    "variance of dicrete uniform distribution=(n**2-1)/12"
   ]
  },
  {
   "cell_type": "markdown",
   "id": "6d4f1d35-3cf4-492c-8913-e30da3570585",
   "metadata": {
    "jp-MarkdownHeadingCollapsed": true
   },
   "source": [
    "### Q7) What are the key properties of a Bernoulli distribution?"
   ]
  },
  {
   "cell_type": "markdown",
   "id": "7ff58c77-c136-4392-aa79-de6a89ddfe0d",
   "metadata": {},
   "source": [
    "#### ANS- The key properties of a Bernoulli distribution are:-"
   ]
  },
  {
   "cell_type": "markdown",
   "id": "08f5efea-4932-4982-9da9-bd642c56308e",
   "metadata": {},
   "source": [
    "1. Two Outcomes: The Bernoulli distribution models events with only two possible outcomes: success (usually denoted as 1) or failure (denoted as 0). \n",
    "2. Probability of Success (p): The core parameter of the Bernoulli distribution is 'p', which represents the probability of success in a single trial. \n",
    "3. Probability of Failure (1-p): The probability of failure is simply the complement of the probability of success, i.e., (1-p). \n",
    "4. Mean (E[X]): The expected value or mean of a Bernoulli random variable is equal to the probability of success (p). \n",
    "5. Variance (Var(X)): The variance of a Bernoulli random variable is calculated as p(1-p). \n",
    "6. Independent Trials: Each trial in a Bernoulli distribution is independent of the others. The outcome of one trial does not influence the outcome of any other trial."
   ]
  },
  {
   "cell_type": "markdown",
   "id": "2b060bc3-342d-4066-a8f6-80d874f9b050",
   "metadata": {
    "jp-MarkdownHeadingCollapsed": true
   },
   "source": [
    "### Q8) What is the binomial distribution, and how is it used in probability?"
   ]
  },
  {
   "cell_type": "markdown",
   "id": "9d2fd825-8b5c-4734-bb4a-56db3a09e8b7",
   "metadata": {},
   "source": [
    "#### ANS-  The binomial distribution is a discrete probability distribution that models the probability of success in a fixed number of independent trials, where each trial has only two possible outcomes: success or failure.The binomial distribution is used to calculate the probability of observing a specific number of successes ('k') in 'n' trials, given the probability of success ('p') for each trial. \n",
    "Example:\n",
    "Imagine flipping a fair coin 5 times. The binomial distribution can be used to calculate the probability of getting exactly 3 heads, 2 tails, or any other specific combination."
   ]
  },
  {
   "cell_type": "markdown",
   "id": "afa826ad-f5d8-4e12-a09e-07ee444afa31",
   "metadata": {
    "jp-MarkdownHeadingCollapsed": true
   },
   "source": [
    "### Q9) What is the Poisson distribution and where is it applied?"
   ]
  },
  {
   "cell_type": "markdown",
   "id": "e83b79f2-65ea-48f6-bba6-3fb49e203764",
   "metadata": {},
   "source": [
    "#### ANS- The Poisson distribution is a discrete probability distribution that describes the no. of events that occur within a fixed interval of time or space given a known average rate of occurence.It's applied in situations where you want to determine the likelihood of a specific number of events happening within a given period or area."
   ]
  },
  {
   "cell_type": "markdown",
   "id": "eeaf1723-2d66-4db3-82b2-a8351dc00877",
   "metadata": {},
   "source": [
    "Examples of applications:\n",
    "Call center:\n",
    "Modeling the number of calls received per hour. \n",
    "Queuing theory:\n",
    "Analyzing the number of customers arriving at a store in a given time period. \n",
    "Rare events:\n",
    "Describing the probability of rare occurrences like disease outbreaks or defects in a product. \n",
    "Radioactive decay:\n",
    "Modeling the number of particles emitted from a radioactive substance in a given time."
   ]
  },
  {
   "cell_type": "markdown",
   "id": "88d4b472-2e2f-49c5-9379-907debc36db9",
   "metadata": {
    "jp-MarkdownHeadingCollapsed": true
   },
   "source": [
    "### Q10) What is a continuous uniform distribution?"
   ]
  },
  {
   "cell_type": "markdown",
   "id": "a9e342b7-2207-4426-bad9-dde4e2f89083",
   "metadata": {},
   "source": [
    "#### ANS- A Continuous Unifrom probability distribution is a distribution that has infinite no. of values defined in a specified range/bound. Continuous uniform distributions, also known as rectangular distributions, are probability distributions where the probability density function (PDF) is constant within a certain interval and zero elsewhere. This means that all outcomes within the interval are equally likely.\n",
    "\n",
    "\n",
    "Example:- A perfect random no. generator such as OTP , probability of guessing exact time at any moment , Temperature variation in a day ."
   ]
  },
  {
   "cell_type": "markdown",
   "id": "81749a1a-ff0f-4535-a360-0df6b104f46c",
   "metadata": {
    "jp-MarkdownHeadingCollapsed": true
   },
   "source": [
    "### Q11) What are the characteristics of a normal distribution?"
   ]
  },
  {
   "cell_type": "markdown",
   "id": "21e8a7f3-b3d1-4b90-981f-50b9b0975749",
   "metadata": {},
   "source": [
    "#### ANS-  The characteristics of a normal distribution are:-"
   ]
  },
  {
   "cell_type": "code",
   "execution_count": null,
   "id": "5b84612c-135a-46fd-ae2d-5f1daf23bc1f",
   "metadata": {},
   "outputs": [],
   "source": [
    "1.Symmetry: The distribution is perfectly symmetrical around its center, which is the mean. The right half of the curve is a mirror image of the left half.\n",
    "2.Bell Curve: The probability density graph of the normal distribution resembles a bell, hence the term \"bell curve\".\n",
    "3.Mean, Median, and Mode are Equal: In a perfectly normal distribution, all three measures of central tendency (mean, median, and mode) have the same value. \n",
    "4.Continuous: The normal distribution is a continuous distribution, meaning that any value within the range of possible values is possible. \n",
    "5.Total Area Under the Curve: The total area under the normal distribution curve equals 1, representing 100% of the data. \n",
    "6.Described by Mean and Standard Deviation: The normal distribution is completely described by its mean (μ) and standard deviation (σ), which determine the location and spread of the curve. \n",
    "7.Asymptotic: The tails of the curve approach the x-axis but never actually touch it. "
   ]
  },
  {
   "cell_type": "markdown",
   "id": "d74f5488-3332-4b17-a027-60b76daf0477",
   "metadata": {
    "jp-MarkdownHeadingCollapsed": true
   },
   "source": [
    "### Q12) What is the standard normal distribution, and why is it important?"
   ]
  },
  {
   "cell_type": "markdown",
   "id": "983726e1-b0e7-41f8-a8a5-4c84a3e791e8",
   "metadata": {},
   "source": [
    "#### ANS- The standard normal distribution is a specific normal distribution with a mean of 0 and a standard deviation of 1. It is important in following ways:-"
   ]
  },
  {
   "cell_type": "code",
   "execution_count": null,
   "id": "33eddafd-ee8a-4ef2-a4c3-b114a52ae7ea",
   "metadata": {},
   "outputs": [],
   "source": [
    "1.The standard normal distribution provides a common ground for comparing data from any normal distribution. By converting data points to z-scores (z = (x - mean) / standard deviation), we can easily see how many standard deviations away from the mean each data point is, regardless of the original distribution's mean and standard deviation. we can directly compare the relative positions of data points within those distributions.  \n",
    "\n",
    "2.The standard normal distribution table (or calculator) allows us to easily find the probability of a data point falling within a certain range or above or below a given value. This is essential for hypothesis testing and making statistical inferences, according to Scribbr and BYJU'S. \n",
    "\n",
    "3.The central limit theorem states that the distribution of sample means approaches a normal distribution, and the standard normal distribution helps us understand the properties of that distribution. \n",
    "\n",
    "4.The standard normal distribution is a standardized version of the normal distribution, enabling us to perform standardized calculations, compare distributions, and calculate probabilities with ease."
   ]
  },
  {
   "cell_type": "markdown",
   "id": "2895f459-8266-4708-a30b-3cffe8854749",
   "metadata": {
    "jp-MarkdownHeadingCollapsed": true
   },
   "source": [
    "### Q13) What is the Central Limit Theorem (CLT), and why is it critical in statistics?"
   ]
  },
  {
   "cell_type": "markdown",
   "id": "623484cb-8247-4e41-a099-ca87ed1bf219",
   "metadata": {},
   "source": [
    "#### ANS- The Central Limit Theorem (CLT) that if you have a popilation with a mean μ and standard deviation σ take sufficiently large no. of random samples from the population with replacement, then the distribution of sample means will be approximately normally distributed. It is  critical in statistics due to following reasons:-"
   ]
  },
  {
   "cell_type": "code",
   "execution_count": null,
   "id": "6ebf39fa-0b24-4862-8869-58697d612658",
   "metadata": {},
   "outputs": [],
   "source": [
    "1.Making inferences: It allows statisticians to use the normal distribution as a basis for hypothesis testing and confidence interval construction, even when the original population data is not normally distributed. \n",
    "2.Simplifying analysis: The normal distribution is well-understood and has many useful properties. The CLT makes it easier to analyze data, as it allows us to apply methods designed for normally distributed data to a wider range of situations. \n",
    "3.Practical applications: The CLT is widely used in various fields like finance, manufacturing, and social sciences, where data is often sampled, and the CLT allows for analysis and predictions based on sample means. \n",
    "4.Foundation for inferential statistics: It provides a solid foundation for making inferences about population parameters based on sample data, such as estimating population means or proportions."
   ]
  },
  {
   "cell_type": "markdown",
   "id": "e18954df-4025-4074-abee-701f7c9bb24b",
   "metadata": {
    "jp-MarkdownHeadingCollapsed": true
   },
   "source": [
    "### Q14) How does the Central Limit Theorem relate to the normal distribution?"
   ]
  },
  {
   "cell_type": "markdown",
   "id": "c25d67c3-aef0-401f-b671-45000b82f418",
   "metadata": {},
   "source": [
    "#### ANS- The central limit theorem states that the mean (X) follows approximately the Normal distribution with mean µ and standard deviation /n, where µ and σ are the mean and standard deviation of the population.\n",
    "#### It's parctically mean When you take a large number of random samples from any population (with a finite mean and variance), the distribution of the sample means will approach a normal distribution, no matter the shape of the original population.Even if the original population is skewed, uniform, or irregular, the distribution of sample means tends to become bell-shaped (normal) as sample size increases.The larger the sample size (commonly n≥30 is used as a rule of thumb), the closer the sampling distribution of the mean is to a normal distribution. It allows us to use normal-based statistical methods (like confidence intervals and hypothesis tests) even when the underlying data isn’t normal."
   ]
  },
  {
   "cell_type": "markdown",
   "id": "f5c68397-dcee-4114-b099-8e80d5e6cc88",
   "metadata": {
    "jp-MarkdownHeadingCollapsed": true
   },
   "source": [
    "### Q15) What is the application of Z statistics in hypothesis testing?"
   ]
  },
  {
   "cell_type": "markdown",
   "id": "a808b7ba-60f9-4b47-8f72-242f43a2715f",
   "metadata": {},
   "source": [
    "#### ANS- The applications of Z statistics in hypothesis testing are:-"
   ]
  },
  {
   "cell_type": "code",
   "execution_count": null,
   "id": "6aa0f619-f2f4-4e30-8568-1151a5a392e4",
   "metadata": {},
   "outputs": [],
   "source": [
    "1. Testing the Mean of a Population (One-Sample Z-Test)\n",
    "Used when:\n",
    "\n",
    "The population standard deviation (σ) is known.\n",
    "\n",
    "The sample size is large (typically n≥30), or the population is normally distributed.\n",
    "\n",
    "Example:\n",
    "A factory claims the average weight of its cereal boxes is 500g. A random sample of 40 boxes is taken, and you want to test if the mean weight differs from 500g.\n",
    "\n",
    "2. Comparing Means of Two Populations (Two-Sample Z-Test)\n",
    "Used when:\n",
    "\n",
    "Comparing the means of two independent groups.\n",
    "\n",
    "Both population standard deviations are known.\n",
    "\n",
    "Samples are large.\n",
    "\n",
    "Example:\n",
    "Comparing the average SAT scores of students from two different schools to see if there's a significant difference.\n",
    "\n",
    "3. Testing Proportions (One-Proportion Z-Test)\n",
    "Used when:\n",
    "\n",
    "You're testing a proportion (e.g., % of people preferring a product).\n",
    "\n",
    "Sample size is large enough for the normal approximation of the binomial distribution.\n",
    "\n",
    "Example:\n",
    "A political poll shows 52% support for a candidate. You test whether this differs significantly from 50% support (i.e., no majority).\n",
    "\n",
    "4. Comparing Proportions (Two-Proportion Z-Test)\n",
    "Used when:\n",
    "\n",
    "You're comparing proportions between two groups.\n",
    "\n",
    "Example:\n",
    "Testing if the conversion rate of two website landing pages is significantly different."
   ]
  },
  {
   "cell_type": "markdown",
   "id": "9a0f29df-87c4-46c5-b491-d54c01bbf47e",
   "metadata": {
    "jp-MarkdownHeadingCollapsed": true
   },
   "source": [
    "### Q16) How do you calculate a Z-score, and what does it represent?"
   ]
  },
  {
   "cell_type": "code",
   "execution_count": null,
   "id": "4f885f20-f423-40a3-ab7a-4b67e3582c4c",
   "metadata": {},
   "outputs": [],
   "source": [
    "#### ANS- A Z-score tells you how many standard deviations a data point or sample statistic is from the mean of a distribution. It allows for comparison between different data sets or measurements on a common scale.\n",
    "\n",
    "Z-Score Formula\n",
    "1. For a Single Data Point:\n",
    "Z= (X−μ)/σ\n",
    "\n",
    "Where:\n",
    "X = individual data point\n",
    "μ = population mean\n",
    "σ = population standard deviation\n",
    "\n",
    "2. For a Sample Mean (Used in Hypothesis Testing):\n",
    "   \n",
    "z = (x̄ - μ) / (σ / √n)\n",
    "Where:\n",
    "\n",
    "x̄= sample mean\n",
    "μ = hypothesized population mean\n",
    "σ = population standard deviation\n",
    "n = sample size\n",
    "\n",
    "What Does a Z-Score Represent?\n",
    "Z = 0: The value is exactly at the mean.\n",
    "\n",
    "Z > 0: The value is above the mean.\n",
    "\n",
    "Z < 0: The value is below the mean.\n",
    "\n",
    "|Z| > 2: The value is typically considered \"unusual\" (depending on the context and significance level).\n",
    "\n",
    "Example: Interpreting a Z-Score\n",
    "Suppose the average test score is 70 with a standard deviation of 10.\n",
    "A student scores 85.\n",
    "𝑍=(85−70)/10=1.5\n",
    "🔍 Interpretation: This student scored 1.5 standard deviations above the mean, better than approximately 93.3% of the class (based on standard normal distribution tables).\n",
    "\n"
   ]
  },
  {
   "cell_type": "code",
   "execution_count": null,
   "id": "8ea0456c-bcdd-4cf9-839d-6f39f0c2374b",
   "metadata": {},
   "outputs": [],
   "source": [
    "### Q17) What are point estimates and interval estimates in statistics?"
   ]
  },
  {
   "cell_type": "code",
   "execution_count": null,
   "id": "64845abf-612d-4a5d-b341-64900564219b",
   "metadata": {},
   "outputs": [],
   "source": [
    "#### ANS-"
   ]
  },
  {
   "cell_type": "markdown",
   "id": "9c92f655-b571-4d4f-9ed8-ca3631a22ab1",
   "metadata": {
    "jp-MarkdownHeadingCollapsed": true
   },
   "source": [
    "### Q18) What is the significance of confidence intervals in statistical analysis?"
   ]
  },
  {
   "cell_type": "markdown",
   "id": "76d77546-f5bd-4d4a-8efb-e1af91f3ebb9",
   "metadata": {},
   "source": [
    "#### ANS- Estimating Population Parameters: Confidence intervals allow researchers to estimate unknown population parameters, such as the population mean, using sample data. \n",
    "\n",
    "#### Quantifying Uncertainty: Confidence intervals highlight the uncertainty in our estimates by providing a range of plausible values instead of a single point estimate. This range reflects the potential variability in the data and helps to understand the reliability of the results.\n",
    "\n",
    "#### Assessing Statistical Significance: Confidence intervals can be used to assess statistical significance by determining if the interval contains the null hypothesis value. If the interval does not contain the null value, it suggests that the observed effect is statistically significant.\n",
    "\n",
    "#### Making Inferences about the Population: Confidence intervals allow researchers to make inferences about the population based on sample data. They help in identifying potential subgroups within the population that may be affected by a particular phenomenon.\n",
    "\n",
    "#### Supporting Hypothesis Testing: Confidence intervals provide a complementary approach to hypothesis testing, offering more information than a simple \"yes\" or \"no\" answer regarding statistical significance. They provide a range of plausible values for the effect size, allowing for a more nuanced understanding of the results.\n",
    "\n",
    "#### Evaluating the Stability of Estimates: Wider confidence intervals indicate that the estimate is relatively unstable and would likely vary significantly from sample to sample. Narrow intervals suggest that the estimate is relatively stable and would likely yield similar results in repeated studies."
   ]
  },
  {
   "cell_type": "markdown",
   "id": "c7f924a5-a196-4ed2-ae2e-1cf71ad14eab",
   "metadata": {
    "jp-MarkdownHeadingCollapsed": true
   },
   "source": [
    "### Q19) What is the relationship between a Z-score and a confidence interval?"
   ]
  },
  {
   "cell_type": "markdown",
   "id": "f24dfd04-e559-4f61-84be-45db0dd3248a",
   "metadata": {},
   "source": [
    "#### ANS- Z-score and a confidence interval are related through the Z-score's role in defining the boundaries of the confidence interval, which represents a range of values likely to contain the true population parameter. In essence, the Z-score acts as a multiplier when calculating the margin of error, which is then used to determine the upper and lower limits of the confidence interval. "
   ]
  },
  {
   "cell_type": "markdown",
   "id": "6df605bb-e466-4ac6-ad95-e67bc345a789",
   "metadata": {
    "jp-MarkdownHeadingCollapsed": true
   },
   "source": [
    "### Q20) How are Z-scores used to compare different distributions?"
   ]
  },
  {
   "cell_type": "markdown",
   "id": "2a87ea6c-cf87-425a-9ea6-c0412a755840",
   "metadata": {},
   "source": [
    "#### ANS- Z-scores are used to compare different distributions by standardizing data points, allowing for a consistent measure of deviation from the mean across diverse datasets. By converting raw scores to a standardized scale (z-score), researchers can directly compare values from different distributions, even if they have different means and standard deviations. "
   ]
  },
  {
   "cell_type": "markdown",
   "id": "e353ac22-efe8-40d7-b46d-2f58418f4498",
   "metadata": {},
   "source": [
    "#### Z-scores standardize raw data by converting values into the number of standard deviations from the mean, enabling comparisons across different distributions. They indicate whether a value is above or below the mean and how far it deviates. This allows for meaningful comparative analysis, even between datasets with different units or scales. Z-scores are also used to test statistical significance by comparing them to critical values based on a chosen confidence level. Additionally, they help identify outliers, as extreme Z-scores often signal unusual or exceptional data points."
   ]
  },
  {
   "cell_type": "markdown",
   "id": "68a90024-94d6-4b5f-8b8c-a56993c6c3c6",
   "metadata": {
    "jp-MarkdownHeadingCollapsed": true
   },
   "source": [
    "### Q21) What are the assumptions for applying the Central Limit Theorem?"
   ]
  },
  {
   "cell_type": "markdown",
   "id": "ed4c4e11-eb93-4586-abd6-e164feb38d9c",
   "metadata": {},
   "source": [
    "#### ANS- The assumptions for applying the Central Limit Theorem are:-"
   ]
  },
  {
   "cell_type": "code",
   "execution_count": null,
   "id": "bde2ae8c-f1fd-4468-a7aa-7532308dfc9f",
   "metadata": {},
   "outputs": [],
   "source": [
    "1. The distribution of the original population datasets does not matter. It could be normal, uniform, binomial, etc.\n",
    "2. The distribution of the sample means would be a normal distribution\n",
    "3. Larger the number of samples taken from the population the closer to a Normal Distribution the sample mean will be. \n",
    "4.The samples extracted should be more significant than 30 observations\n",
    "5. The sample mean average extracted will be approximately equal to the mean of the population and its variance would be similar to the original variance, which is divided by the sample size i.e ‘n’"
   ]
  },
  {
   "cell_type": "markdown",
   "id": "b746c261-ebf0-4e1d-8c7b-81cdcd038566",
   "metadata": {
    "jp-MarkdownHeadingCollapsed": true
   },
   "source": [
    "### Q22) What is the concept of expected value in a probability distribution?"
   ]
  },
  {
   "cell_type": "markdown",
   "id": "25cd2ff3-d6a0-4f89-b2cc-06bbbbde16c1",
   "metadata": {},
   "source": [
    "#### ANS- The expected value (often abbreviated as EV or denoted as E[X]) is a fundamental concept in probability and statistics. It represents the long-run average or mean value of a random variable over many trials or occurrences."
   ]
  },
  {
   "cell_type": "markdown",
   "id": "bf741070-b866-4efa-ae8d-6959c31f0174",
   "metadata": {
    "jp-MarkdownHeadingCollapsed": true
   },
   "source": [
    "### Q23) How does a probability distribution relate to the expected outcome of a random variable?"
   ]
  },
  {
   "cell_type": "markdown",
   "id": "b37a1331-5bf9-4304-8629-84dc1e16f594",
   "metadata": {},
   "source": [
    "#### ANS- A probability distribution describes how probabilities are spread over the possible values of a random variable. It's essentially a list of all possible outcomes with their corresponding probabilities.The expected outcome (or expected value) of a random variable is a weighted average of all possible outcomes, where the weights are the probabilities from the distribution. In essence, the probability distribution provides the framework for calculating the expected value, as it defines the likelihood of each outcome."
   ]
  }
 ],
 "metadata": {
  "kernelspec": {
   "display_name": "Python 3 (ipykernel)",
   "language": "python",
   "name": "python3"
  },
  "language_info": {
   "codemirror_mode": {
    "name": "ipython",
    "version": 3
   },
   "file_extension": ".py",
   "mimetype": "text/x-python",
   "name": "python",
   "nbconvert_exporter": "python",
   "pygments_lexer": "ipython3",
   "version": "3.13.3"
  }
 },
 "nbformat": 4,
 "nbformat_minor": 5
}
